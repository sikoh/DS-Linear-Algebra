{
  "cells": [
    {
      "cell_type": "markdown",
      "metadata": {
        "id": "view-in-github",
        "colab_type": "text"
      },
      "source": [
        "<a href=\"https://colab.research.google.com/github/sikoh/DS-Linear-Algebra/blob/main/Bias-Variance/DS_MetricsBias_Homework.ipynb\" target=\"_parent\"><img src=\"https://colab.research.google.com/assets/colab-badge.svg\" alt=\"Open In Colab\"/></a>"
      ]
    },
    {
      "cell_type": "markdown",
      "id": "e276bb37",
      "metadata": {
        "deletable": false,
        "editable": false,
        "nbgrader": {
          "cell_type": "markdown",
          "checksum": "48ce949e64e744a712aa9d5be62221b9",
          "grade": false,
          "grade_id": "cell-1a771173b3b47706",
          "locked": true,
          "schema_version": 3,
          "solution": false,
          "task": false
        },
        "id": "e276bb37"
      },
      "source": [
        "# Data Science  - Unit 1 Sprint 3 Module 4\n",
        "\n",
        "## Module Project: Metrics, Bias and Variance\n",
        "\n",
        "### Learning Objectives\n",
        "\n",
        "* Interpret your model results using OLS and Sklearn metrics\n",
        "* Define and analyze bias in your model\n",
        "* Define and analyze variance in your model"
      ]
    },
    {
      "cell_type": "markdown",
      "id": "ea501c70",
      "metadata": {
        "deletable": false,
        "editable": false,
        "nbgrader": {
          "cell_type": "markdown",
          "checksum": "30eb8935f0b7dd3f44cda452c5d5fb7b",
          "grade": false,
          "grade_id": "cell-66d859feacd21304",
          "locked": true,
          "schema_version": 3,
          "solution": false,
          "task": false
        },
        "id": "ea501c70"
      },
      "source": [
        "## Analyzing results from diamonds\n",
        "\n",
        "Use the seaborn dataset `diamonds` to run a linear regression model and produce the common metrics you would use to evaluate your model's accuracy."
      ]
    },
    {
      "cell_type": "markdown",
      "id": "661bd6be",
      "metadata": {
        "deletable": false,
        "editable": false,
        "nbgrader": {
          "cell_type": "markdown",
          "checksum": "1ae1076d3d0fd55473de2e28a91b99e2",
          "grade": false,
          "grade_id": "cell-ef0ac03663d1ddde",
          "locked": true,
          "schema_version": 3,
          "solution": false,
          "task": false
        },
        "id": "661bd6be"
      },
      "source": [
        "**Task 1** - Load the data\n",
        "Load the `diamonds` dataset from the `seaborn` package.\n",
        "\n",
        "- Assign the value to an object called `dia`\n",
        "- Make sure to import the packages you expect to use for an `ols` linear regression model."
      ]
    },
    {
      "cell_type": "code",
      "execution_count": null,
      "id": "912fdf28",
      "metadata": {
        "deletable": false,
        "nbgrader": {
          "cell_type": "code",
          "checksum": "97b31f4323c6d049d5ed98237f5fa8be",
          "grade": false,
          "grade_id": "cell-9cb6a33a84a55252",
          "locked": false,
          "schema_version": 3,
          "solution": true,
          "task": false
        },
        "id": "912fdf28"
      },
      "outputs": [],
      "source": [
        "#Task 1\n",
        "\n",
        "#imports\n",
        "\n",
        "\n",
        "\n",
        "# YOUR CODE HERE\n",
        "raise NotImplementedError()"
      ]
    },
    {
      "cell_type": "code",
      "execution_count": null,
      "id": "56ee6971",
      "metadata": {
        "deletable": false,
        "editable": false,
        "nbgrader": {
          "cell_type": "code",
          "checksum": "9aa09b45e597166d8f8fde0dcdccd34b",
          "grade": true,
          "grade_id": "cell-44689b2d030034e2",
          "locked": true,
          "points": 1,
          "schema_version": 3,
          "solution": false,
          "task": false
        },
        "id": "56ee6971"
      },
      "outputs": [],
      "source": [
        "# Task 1 - Tests\n",
        "\n",
        "assert isinstance(dia, pd.DataFrame)\n"
      ]
    },
    {
      "cell_type": "markdown",
      "id": "2d8ed5a4",
      "metadata": {
        "deletable": false,
        "editable": false,
        "nbgrader": {
          "cell_type": "markdown",
          "checksum": "869d6acefeec7514c25108904813b652",
          "grade": false,
          "grade_id": "cell-5353ad6fc8d263f1",
          "locked": true,
          "schema_version": 3,
          "solution": false,
          "task": false
        },
        "id": "2d8ed5a4"
      },
      "source": [
        "**Task 2** - Conduct EDA on your dataset\n",
        "- Check for null values. Assign the total number of null values in your dataset to `num_null`"
      ]
    },
    {
      "cell_type": "code",
      "execution_count": null,
      "id": "23e55927",
      "metadata": {
        "deletable": false,
        "nbgrader": {
          "cell_type": "code",
          "checksum": "1af7ff6b83d020cf6f97734ba55de859",
          "grade": false,
          "grade_id": "cell-6f304c0a6507dec5",
          "locked": false,
          "schema_version": 3,
          "solution": true,
          "task": false
        },
        "id": "23e55927"
      },
      "outputs": [],
      "source": [
        "#Task 2\n",
        "# YOUR CODE HERE\n",
        "raise NotImplementedError()\n"
      ]
    },
    {
      "cell_type": "code",
      "execution_count": null,
      "id": "44fdfb0b",
      "metadata": {
        "deletable": false,
        "editable": false,
        "nbgrader": {
          "cell_type": "code",
          "checksum": "ad04e53d134cf9df0726130dbdbea6b8",
          "grade": true,
          "grade_id": "cell-fdc8bbdfe5827fa7",
          "locked": true,
          "points": 1,
          "schema_version": 3,
          "solution": false,
          "task": false
        },
        "id": "44fdfb0b"
      },
      "outputs": [],
      "source": [
        "# Task 2 - Tests\n"
      ]
    },
    {
      "cell_type": "markdown",
      "id": "1fa02297",
      "metadata": {
        "deletable": false,
        "editable": false,
        "nbgrader": {
          "cell_type": "markdown",
          "checksum": "03095268e0a58f39df028517aaa7bebb",
          "grade": false,
          "grade_id": "cell-4d6bb850ff25f9f2",
          "locked": true,
          "schema_version": 3,
          "solution": false,
          "task": false
        },
        "id": "1fa02297"
      },
      "source": [
        "**Task 3** - Visualize your feature distributions\n",
        "\n",
        "- Use seaborn's `pairplot`to visualize the distributions for all your dataset's features.\n",
        "- You can access the documentation [here](https://seaborn.pydata.org/generated/seaborn.pairplot.html)\n",
        "- This next task will not be autograded."
      ]
    },
    {
      "cell_type": "markdown",
      "id": "6cf3578e",
      "metadata": {
        "deletable": false,
        "editable": false,
        "nbgrader": {
          "cell_type": "markdown",
          "checksum": "1a961b83104709230c4664a7c907bc16",
          "grade": false,
          "grade_id": "cell-f0d05d577cf6c3b2",
          "locked": true,
          "schema_version": 3,
          "solution": false,
          "task": false
        },
        "id": "6cf3578e"
      },
      "source": [
        "**Task 4**\n",
        "\n",
        "How would you describe the distribution for the `price` feature?\n",
        "\n",
        "A: Uniform\n",
        "\n",
        "B: Right skewed\n",
        "\n",
        "C: Left skewed\n",
        "\n",
        "D: Normally distributed\n",
        "\n",
        "Specify your answer in the next code block using Answer =. For example, if the correct answer is choice B, you'll type Answer = 'B'."
      ]
    },
    {
      "cell_type": "code",
      "execution_count": null,
      "id": "3fc2e507",
      "metadata": {
        "deletable": false,
        "nbgrader": {
          "cell_type": "code",
          "checksum": "c60d34307506794e975a46eaad4074be",
          "grade": false,
          "grade_id": "cell-c7981aeaad693e10",
          "locked": false,
          "schema_version": 3,
          "solution": true,
          "task": false
        },
        "id": "3fc2e507"
      },
      "outputs": [],
      "source": [
        "#Task 4\n",
        "\n",
        "# YOUR CODE HERE\n",
        "raise NotImplementedError()"
      ]
    },
    {
      "cell_type": "code",
      "execution_count": null,
      "id": "db97c3ce",
      "metadata": {
        "deletable": false,
        "editable": false,
        "nbgrader": {
          "cell_type": "code",
          "checksum": "3f944f5250f2057af3d4805d3b27067b",
          "grade": true,
          "grade_id": "cell-4950fa558630a5ff",
          "locked": true,
          "points": 1,
          "schema_version": 3,
          "solution": false,
          "task": false
        },
        "id": "db97c3ce"
      },
      "outputs": [],
      "source": [
        "#Task 4 - Test\n"
      ]
    },
    {
      "cell_type": "markdown",
      "id": "20798ce2",
      "metadata": {
        "deletable": false,
        "editable": false,
        "nbgrader": {
          "cell_type": "markdown",
          "checksum": "f74639382ce9c22538fbaa5bb362c2f8",
          "grade": false,
          "grade_id": "cell-5948eb0a7d4d5c4c",
          "locked": true,
          "schema_version": 3,
          "solution": false,
          "task": false
        },
        "id": "20798ce2"
      },
      "source": [
        "**Task 5** Check for multicollinearity\n",
        "\n",
        "- Determine the `pearson` correlations for the `x`, `y`, and `z` columns to `carat`.\n",
        "- Assign the value of the correlations to `x_corr`, `y_corr` and `z_corr` respectively."
      ]
    },
    {
      "cell_type": "code",
      "execution_count": null,
      "id": "0c882771",
      "metadata": {
        "deletable": false,
        "nbgrader": {
          "cell_type": "code",
          "checksum": "47e197a45cf6243c199e4cf7ca8b3e7a",
          "grade": false,
          "grade_id": "cell-3bb28a36542eabdb",
          "locked": false,
          "schema_version": 3,
          "solution": true,
          "task": false
        },
        "id": "0c882771"
      },
      "outputs": [],
      "source": [
        "#Task 5\n",
        "\n",
        "# YOUR CODE HERE\n",
        "raise NotImplementedError()\n",
        "\n",
        "\n",
        "print(x_corr, y_corr, z_corr)"
      ]
    },
    {
      "cell_type": "code",
      "execution_count": null,
      "id": "fca2d006",
      "metadata": {
        "deletable": false,
        "editable": false,
        "nbgrader": {
          "cell_type": "code",
          "checksum": "3e0e7215493259c10dfb4a0985cc2bfc",
          "grade": true,
          "grade_id": "cell-a61182842c3afbc9",
          "locked": true,
          "points": 1,
          "schema_version": 3,
          "solution": false,
          "task": false
        },
        "id": "fca2d006"
      },
      "outputs": [],
      "source": [
        "#Task 5 - Test\n",
        "\n"
      ]
    },
    {
      "cell_type": "markdown",
      "id": "ce99c0e1",
      "metadata": {
        "deletable": false,
        "editable": false,
        "nbgrader": {
          "cell_type": "markdown",
          "checksum": "dbf16d8fbf3df238c1e623ca485db24f",
          "grade": false,
          "grade_id": "cell-1cc2dfc0b89eaa6e",
          "locked": true,
          "schema_version": 3,
          "solution": false,
          "task": false
        },
        "id": "ce99c0e1"
      },
      "source": [
        "**Task 6**\n",
        "\n",
        "\n",
        "Because these three columns share a great deal of correlation with the `carat` feature, it does not make sense to use them as part of our model. Drop the three columns and reassign to the `dia` dataframe."
      ]
    },
    {
      "cell_type": "code",
      "execution_count": null,
      "id": "1ba085ba",
      "metadata": {
        "deletable": false,
        "nbgrader": {
          "cell_type": "code",
          "checksum": "642f986d2558287bd5a1abfdc425bf73",
          "grade": false,
          "grade_id": "cell-9bb880654a9bbb51",
          "locked": false,
          "schema_version": 3,
          "solution": true,
          "task": false
        },
        "id": "1ba085ba"
      },
      "outputs": [],
      "source": [
        "#Task 6\n",
        "\n",
        "# YOUR CODE HERE\n",
        "raise NotImplementedError()"
      ]
    },
    {
      "cell_type": "code",
      "execution_count": null,
      "id": "8e5d1c0c",
      "metadata": {
        "deletable": false,
        "editable": false,
        "nbgrader": {
          "cell_type": "code",
          "checksum": "3242bc07a300e7f1cb6aff71829983b1",
          "grade": true,
          "grade_id": "cell-b82cf6a65063e5db",
          "locked": true,
          "points": 1,
          "schema_version": 3,
          "solution": false,
          "task": false
        },
        "id": "8e5d1c0c"
      },
      "outputs": [],
      "source": [
        "#Task 6 - Test\n",
        "\n"
      ]
    },
    {
      "cell_type": "markdown",
      "id": "58479fa7",
      "metadata": {
        "deletable": false,
        "editable": false,
        "nbgrader": {
          "cell_type": "markdown",
          "checksum": "aeba3de8cb0abaf9bfaaf2fe910e0216",
          "grade": false,
          "grade_id": "cell-b4fede92d948542e",
          "locked": true,
          "schema_version": 3,
          "solution": false,
          "task": false
        },
        "id": "58479fa7"
      },
      "source": [
        "**Task 7** - OLS Modeling\n",
        "\n",
        "- Use `carat` as your independent feature.\n",
        "- Use the `price` values as your dependent features.\n",
        "- Build an OLS model and review the summary report. Make sure to assign a variable called `model`"
      ]
    },
    {
      "cell_type": "code",
      "execution_count": null,
      "id": "7c29524b",
      "metadata": {
        "deletable": false,
        "nbgrader": {
          "cell_type": "code",
          "checksum": "4e516bbca514fcd0e6c956b6fedd7854",
          "grade": false,
          "grade_id": "cell-7cdc6fb8a68ea0a6",
          "locked": false,
          "schema_version": 3,
          "solution": true,
          "task": false
        },
        "id": "7c29524b"
      },
      "outputs": [],
      "source": [
        "#Task 7\n",
        "\n",
        "# YOUR CODE HERE\n",
        "raise NotImplementedError()\n",
        "\n",
        "print(model.summary())"
      ]
    },
    {
      "cell_type": "code",
      "execution_count": null,
      "id": "02f88dfd",
      "metadata": {
        "deletable": false,
        "editable": false,
        "nbgrader": {
          "cell_type": "code",
          "checksum": "9a20d1bdc1840a9093ced22e9e63cf96",
          "grade": true,
          "grade_id": "cell-a286cb026ed74717",
          "locked": true,
          "points": 1,
          "schema_version": 3,
          "solution": false,
          "task": false
        },
        "id": "02f88dfd"
      },
      "outputs": [],
      "source": [
        "#Task 7 - Test\n",
        "\n",
        "\n"
      ]
    },
    {
      "cell_type": "markdown",
      "id": "6a5e6a1b",
      "metadata": {
        "deletable": false,
        "editable": false,
        "nbgrader": {
          "cell_type": "markdown",
          "checksum": "ebb5c3d213bc624ad113a3637cbcff60",
          "grade": false,
          "grade_id": "cell-acebe66c0d4434b9",
          "locked": true,
          "schema_version": 3,
          "solution": false,
          "task": false
        },
        "id": "6a5e6a1b"
      },
      "source": [
        "**Task 8** - Predictions and Residuals\n",
        "\n",
        "- Create a new column that includes your model predictions for your features. Name the column `y_pred`\n",
        "- Calculate the prediction residuals. Assign the values to a column named `residuals`."
      ]
    },
    {
      "cell_type": "code",
      "execution_count": null,
      "id": "5265ec28",
      "metadata": {
        "deletable": false,
        "nbgrader": {
          "cell_type": "code",
          "checksum": "b41bfe2f9935de3f1c933e608e602461",
          "grade": false,
          "grade_id": "cell-194a68304bff654f",
          "locked": false,
          "schema_version": 3,
          "solution": true,
          "task": false
        },
        "id": "5265ec28"
      },
      "outputs": [],
      "source": [
        "#Task 8\n",
        "\n",
        "# YOUR CODE HERE\n",
        "raise NotImplementedError()"
      ]
    },
    {
      "cell_type": "code",
      "execution_count": null,
      "id": "de702d4d",
      "metadata": {
        "deletable": false,
        "editable": false,
        "nbgrader": {
          "cell_type": "code",
          "checksum": "7fa75801d5931f4986fb832682ec094a",
          "grade": true,
          "grade_id": "cell-32971dccea2783bd",
          "locked": true,
          "points": 1,
          "schema_version": 3,
          "solution": false,
          "task": false
        },
        "id": "de702d4d"
      },
      "outputs": [],
      "source": [
        "#Task 8 - Test\n",
        "\n",
        "assert dia.shape == (53940, 9), \"Have you created the two columns?\"\n"
      ]
    },
    {
      "cell_type": "markdown",
      "id": "98190e03",
      "metadata": {
        "deletable": false,
        "editable": false,
        "nbgrader": {
          "cell_type": "markdown",
          "checksum": "6ff594b8613cbf21554b4ea8ea587d02",
          "grade": false,
          "grade_id": "cell-de9d67d9745568e6",
          "locked": true,
          "schema_version": 3,
          "solution": false,
          "task": false
        },
        "id": "98190e03"
      },
      "source": [
        "**Task 9** - Metrics\n",
        "\n",
        "- Determine the values for the **mean absolute error, the mean squared error** and the **root mean squared error** for your previous model.\n",
        "- Assign the values as `mae`, `mse`, and `rmse` respectively.\n",
        "- *Hint*: We discussed a few methods for this in class. You can refer to this [documentation](https://scikit-learn.org/stable/modules/model_evaluation.html) for other metric values."
      ]
    },
    {
      "cell_type": "code",
      "execution_count": null,
      "id": "93742607",
      "metadata": {
        "deletable": false,
        "nbgrader": {
          "cell_type": "code",
          "checksum": "343cc16612d6f7d44c12e70aa8ca79c8",
          "grade": false,
          "grade_id": "cell-8521cfc520c32f52",
          "locked": false,
          "schema_version": 3,
          "solution": true,
          "task": false
        },
        "id": "93742607"
      },
      "outputs": [],
      "source": [
        "#Task 9\n",
        "\n",
        "# YOUR CODE HERE\n",
        "raise NotImplementedError()\n",
        "\n",
        "print(mae, mse, rmse)"
      ]
    },
    {
      "cell_type": "code",
      "execution_count": null,
      "id": "73527065",
      "metadata": {
        "deletable": false,
        "editable": false,
        "nbgrader": {
          "cell_type": "code",
          "checksum": "26244b4d39e3d008bbe0eaf01783c64b",
          "grade": true,
          "grade_id": "cell-320164f97411992e",
          "locked": true,
          "points": 1,
          "schema_version": 3,
          "solution": false,
          "task": false
        },
        "id": "73527065"
      },
      "outputs": [],
      "source": [
        "#Task 9 - Test\n"
      ]
    },
    {
      "cell_type": "markdown",
      "id": "7bd3cff8",
      "metadata": {
        "deletable": false,
        "editable": false,
        "nbgrader": {
          "cell_type": "markdown",
          "checksum": "84630bda622894830e1612bee50a28d3",
          "grade": false,
          "grade_id": "cell-81f843066ad33ee1",
          "locked": true,
          "schema_version": 3,
          "solution": false,
          "task": false
        },
        "id": "7bd3cff8"
      },
      "source": [
        "**Task 10** - OLS Modeling, Addtional Features\n",
        "\n",
        "- Use the `depth`, `table`, and `carat` as your independent features.\n",
        "- Use the `price` values as your dependent features.\n",
        "- Build an OLS model and review the summary report. Make sure to assign a variable called `model`.  "
      ]
    },
    {
      "cell_type": "code",
      "execution_count": null,
      "id": "01d15611",
      "metadata": {
        "deletable": false,
        "nbgrader": {
          "cell_type": "code",
          "checksum": "0b5e68803fdfab6cda2e7defee52c9d7",
          "grade": false,
          "grade_id": "cell-ae75326bc99156f2",
          "locked": false,
          "schema_version": 3,
          "solution": true,
          "task": false
        },
        "id": "01d15611"
      },
      "outputs": [],
      "source": [
        "#Task 10\n",
        "\n",
        "# YOUR CODE HERE\n",
        "raise NotImplementedError()\n",
        "\n",
        "print(model.summary())"
      ]
    },
    {
      "cell_type": "code",
      "execution_count": null,
      "id": "bc60f257",
      "metadata": {
        "deletable": false,
        "editable": false,
        "nbgrader": {
          "cell_type": "code",
          "checksum": "556bfb0f07d4915c69b762a1c9317874",
          "grade": true,
          "grade_id": "cell-30637ae943cc927c",
          "locked": true,
          "points": 1,
          "schema_version": 3,
          "solution": false,
          "task": false
        },
        "id": "bc60f257"
      },
      "outputs": [],
      "source": [
        "#Task 10 - Test\n",
        "\n",
        "\n",
        "assert len(model.params.index) == 4, \"Make sure you've assigned both values.\"\n"
      ]
    },
    {
      "cell_type": "markdown",
      "id": "d719f680",
      "metadata": {
        "deletable": false,
        "editable": false,
        "nbgrader": {
          "cell_type": "markdown",
          "checksum": "70f820a77c7eabe60a8e49641c30c0ae",
          "grade": false,
          "grade_id": "cell-0e10e4c3bd167d21",
          "locked": true,
          "schema_version": 3,
          "solution": false,
          "task": false
        },
        "id": "d719f680"
      },
      "source": [
        "**Task 11** - Predictions and Residuals\n",
        "\n",
        "- Create a new column that includes your model predictions for your features. Name the column `y_pred`\n",
        "- Calculate the residuals. Assign the values to a column named `residuals`.\n"
      ]
    },
    {
      "cell_type": "code",
      "execution_count": null,
      "id": "e88d1372",
      "metadata": {
        "deletable": false,
        "nbgrader": {
          "cell_type": "code",
          "checksum": "9866286458b948b69acb74548edb6f3d",
          "grade": false,
          "grade_id": "cell-eda3b235dda0c890",
          "locked": false,
          "schema_version": 3,
          "solution": true,
          "task": false
        },
        "id": "e88d1372"
      },
      "outputs": [],
      "source": [
        "#Task 11\n",
        "\n",
        "# YOUR CODE HERE\n",
        "raise NotImplementedError()"
      ]
    },
    {
      "cell_type": "code",
      "execution_count": null,
      "id": "7291cf0a",
      "metadata": {
        "deletable": false,
        "editable": false,
        "nbgrader": {
          "cell_type": "code",
          "checksum": "628274ae696b785c194a592db8c018b5",
          "grade": true,
          "grade_id": "cell-f8dac98f7966de41",
          "locked": true,
          "points": 1,
          "schema_version": 3,
          "solution": false,
          "task": false
        },
        "id": "7291cf0a"
      },
      "outputs": [],
      "source": [
        "#Task 11- Test\n",
        "\n",
        "assert dia.shape == (53940, 9), \"Have you created the two columns?\"\n"
      ]
    },
    {
      "cell_type": "markdown",
      "id": "1f988b2e",
      "metadata": {
        "deletable": false,
        "editable": false,
        "nbgrader": {
          "cell_type": "markdown",
          "checksum": "2b00cbb0cca2e97cd4da693bdf7af6e7",
          "grade": false,
          "grade_id": "cell-52216d5087cc7eec",
          "locked": true,
          "schema_version": 3,
          "solution": false,
          "task": false
        },
        "id": "1f988b2e"
      },
      "source": [
        "**Task 12** - Metrics\n",
        "\n",
        "- Determine the values for the **mean absolute error, the mean squared error** and the **root mean squared error** for your previous model.\n",
        "- Assign the values as `mae`, `mse`, and `rmse` respectively.\n",
        "- *Hint*: We discussed a few methods for this in class. You can refer to this [documentation](https://scikit-learn.org/stable/modules/model_evaluation.html) for other metric values."
      ]
    },
    {
      "cell_type": "code",
      "execution_count": null,
      "id": "c9f5857a",
      "metadata": {
        "deletable": false,
        "nbgrader": {
          "cell_type": "code",
          "checksum": "8a6b10494bd92205c5d29c63be787781",
          "grade": false,
          "grade_id": "cell-29fb7569c52b05de",
          "locked": false,
          "schema_version": 3,
          "solution": true,
          "task": false
        },
        "id": "c9f5857a"
      },
      "outputs": [],
      "source": [
        "#Task 12\n",
        "\n",
        "# YOUR CODE HERE\n",
        "raise NotImplementedError()\n"
      ]
    },
    {
      "cell_type": "code",
      "execution_count": null,
      "id": "8006ba10",
      "metadata": {
        "deletable": false,
        "editable": false,
        "nbgrader": {
          "cell_type": "code",
          "checksum": "76dc4458a125dde62ee0a18ad9b2616b",
          "grade": true,
          "grade_id": "cell-9319992c1a2f4f94",
          "locked": true,
          "points": 1,
          "schema_version": 3,
          "solution": false,
          "task": false
        },
        "id": "8006ba10"
      },
      "outputs": [],
      "source": [
        "#Task 12 - Test\n"
      ]
    }
  ],
  "metadata": {
    "kernelspec": {
      "display_name": "Python 3",
      "language": "python",
      "name": "python3"
    },
    "language_info": {
      "codemirror_mode": {
        "name": "ipython",
        "version": 3
      },
      "file_extension": ".py",
      "mimetype": "text/x-python",
      "name": "python",
      "nbconvert_exporter": "python",
      "pygments_lexer": "ipython3",
      "version": "3.8.8"
    },
    "colab": {
      "provenance": [],
      "include_colab_link": true
    }
  },
  "nbformat": 4,
  "nbformat_minor": 5
}