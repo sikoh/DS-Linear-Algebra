{
  "cells": [
    {
      "cell_type": "markdown",
      "metadata": {
        "id": "view-in-github",
        "colab_type": "text"
      },
      "source": [
        "<a href=\"https://colab.research.google.com/github/sikoh/DS-Linear-Algebra/blob/main/Multiple-Regression/DS_MultipleRegression_Homework.ipynb\" target=\"_parent\"><img src=\"https://colab.research.google.com/assets/colab-badge.svg\" alt=\"Open In Colab\"/></a>"
      ]
    },
    {
      "cell_type": "markdown",
      "metadata": {
        "id": "RQw2GTc8oDRw"
      },
      "source": [
        "# Data Science - Unit 1 Sprint 3 Module 2\n",
        "\n",
        "## Module Project: Multiple Linear Regression\n",
        "\n",
        "### Learning Objectives\n",
        "\n",
        "* model the relationship of multiple predictor variables to a single outcome\n",
        "* conduct a t-test to determine the significance of individual variables in the model\n",
        "* compare model fit using R-squared\n",
        "\n",
        "### Total notebook points: 13"
      ]
    },
    {
      "cell_type": "markdown",
      "metadata": {
        "id": "MHWnltybtm8_"
      },
      "source": [
        "## Part A: Introduction\n",
        "\n",
        "### Statistical significance between head size and brain weight in healthy adult humans\n",
        "\n",
        "The `Brainhead.csv` dataset provides information on 237 individuals who were subject to post-mortem examination at the Middlesex Hospital in London around the turn of the 20th century. Study authors used cadavers to see if a relationship between brain weight and other more easily measured physiological characterizes such as age, sex, and head size could be determined. The end goal was to develop a way to estimate a person’s brain size while they were still alive (as the living aren’t keen on having their brains taken out and weighed).\n",
        "\n",
        "**We wish to determine if we can improve on our model of the linear relationship between head size and brain weight in healthy human adults.**\n",
        "\n",
        "Source: R.J. Gladstone (1905). \"A Study of the Relations of the Brain to the Size of the Head\", Biometrika, Vol. 4, pp105-123.\n",
        "\n",
        "### Use the above information to complete the following tasks."
      ]
    },
    {
      "cell_type": "markdown",
      "metadata": {
        "id": "HCdydDBSxKLL"
      },
      "source": [
        "**Task 1** - Load the data\n",
        "\n",
        "Let's load the data! The URL has been provided as well as the imports for pandas and numpy.\n",
        "\n",
        "* load your CSV file into a DataFrame named `df`"
      ]
    },
    {
      "cell_type": "code",
      "execution_count": 1,
      "metadata": {
        "deletable": false,
        "id": "0NKz1DvXQHqq",
        "nbgrader": {
          "cell_type": "code",
          "checksum": "7e62c4220847f690fff7fc7bcc2458b9",
          "grade": false,
          "grade_id": "cell-0434f06199d1ad11",
          "locked": false,
          "schema_version": 3,
          "solution": true,
          "task": false
        },
        "colab": {
          "base_uri": "https://localhost:8080/",
          "height": 206
        },
        "outputId": "ca6c82fc-4010-4997-982e-92182f8948ba"
      },
      "outputs": [
        {
          "output_type": "execute_result",
          "data": {
            "text/plain": [
              "   Gender  Age  Head  Brain\n",
              "0       1    1  4512   1530\n",
              "1       1    1  3738   1297\n",
              "2       1    1  4261   1335\n",
              "3       1    1  3777   1282\n",
              "4       1    1  4177   1590"
            ],
            "text/html": [
              "\n",
              "  <div id=\"df-ab19628e-da93-4397-974a-5d65175a8698\" class=\"colab-df-container\">\n",
              "    <div>\n",
              "<style scoped>\n",
              "    .dataframe tbody tr th:only-of-type {\n",
              "        vertical-align: middle;\n",
              "    }\n",
              "\n",
              "    .dataframe tbody tr th {\n",
              "        vertical-align: top;\n",
              "    }\n",
              "\n",
              "    .dataframe thead th {\n",
              "        text-align: right;\n",
              "    }\n",
              "</style>\n",
              "<table border=\"1\" class=\"dataframe\">\n",
              "  <thead>\n",
              "    <tr style=\"text-align: right;\">\n",
              "      <th></th>\n",
              "      <th>Gender</th>\n",
              "      <th>Age</th>\n",
              "      <th>Head</th>\n",
              "      <th>Brain</th>\n",
              "    </tr>\n",
              "  </thead>\n",
              "  <tbody>\n",
              "    <tr>\n",
              "      <th>0</th>\n",
              "      <td>1</td>\n",
              "      <td>1</td>\n",
              "      <td>4512</td>\n",
              "      <td>1530</td>\n",
              "    </tr>\n",
              "    <tr>\n",
              "      <th>1</th>\n",
              "      <td>1</td>\n",
              "      <td>1</td>\n",
              "      <td>3738</td>\n",
              "      <td>1297</td>\n",
              "    </tr>\n",
              "    <tr>\n",
              "      <th>2</th>\n",
              "      <td>1</td>\n",
              "      <td>1</td>\n",
              "      <td>4261</td>\n",
              "      <td>1335</td>\n",
              "    </tr>\n",
              "    <tr>\n",
              "      <th>3</th>\n",
              "      <td>1</td>\n",
              "      <td>1</td>\n",
              "      <td>3777</td>\n",
              "      <td>1282</td>\n",
              "    </tr>\n",
              "    <tr>\n",
              "      <th>4</th>\n",
              "      <td>1</td>\n",
              "      <td>1</td>\n",
              "      <td>4177</td>\n",
              "      <td>1590</td>\n",
              "    </tr>\n",
              "  </tbody>\n",
              "</table>\n",
              "</div>\n",
              "    <div class=\"colab-df-buttons\">\n",
              "\n",
              "  <div class=\"colab-df-container\">\n",
              "    <button class=\"colab-df-convert\" onclick=\"convertToInteractive('df-ab19628e-da93-4397-974a-5d65175a8698')\"\n",
              "            title=\"Convert this dataframe to an interactive table.\"\n",
              "            style=\"display:none;\">\n",
              "\n",
              "  <svg xmlns=\"http://www.w3.org/2000/svg\" height=\"24px\" viewBox=\"0 -960 960 960\">\n",
              "    <path d=\"M120-120v-720h720v720H120Zm60-500h600v-160H180v160Zm220 220h160v-160H400v160Zm0 220h160v-160H400v160ZM180-400h160v-160H180v160Zm440 0h160v-160H620v160ZM180-180h160v-160H180v160Zm440 0h160v-160H620v160Z\"/>\n",
              "  </svg>\n",
              "    </button>\n",
              "\n",
              "  <style>\n",
              "    .colab-df-container {\n",
              "      display:flex;\n",
              "      gap: 12px;\n",
              "    }\n",
              "\n",
              "    .colab-df-convert {\n",
              "      background-color: #E8F0FE;\n",
              "      border: none;\n",
              "      border-radius: 50%;\n",
              "      cursor: pointer;\n",
              "      display: none;\n",
              "      fill: #1967D2;\n",
              "      height: 32px;\n",
              "      padding: 0 0 0 0;\n",
              "      width: 32px;\n",
              "    }\n",
              "\n",
              "    .colab-df-convert:hover {\n",
              "      background-color: #E2EBFA;\n",
              "      box-shadow: 0px 1px 2px rgba(60, 64, 67, 0.3), 0px 1px 3px 1px rgba(60, 64, 67, 0.15);\n",
              "      fill: #174EA6;\n",
              "    }\n",
              "\n",
              "    .colab-df-buttons div {\n",
              "      margin-bottom: 4px;\n",
              "    }\n",
              "\n",
              "    [theme=dark] .colab-df-convert {\n",
              "      background-color: #3B4455;\n",
              "      fill: #D2E3FC;\n",
              "    }\n",
              "\n",
              "    [theme=dark] .colab-df-convert:hover {\n",
              "      background-color: #434B5C;\n",
              "      box-shadow: 0px 1px 3px 1px rgba(0, 0, 0, 0.15);\n",
              "      filter: drop-shadow(0px 1px 2px rgba(0, 0, 0, 0.3));\n",
              "      fill: #FFFFFF;\n",
              "    }\n",
              "  </style>\n",
              "\n",
              "    <script>\n",
              "      const buttonEl =\n",
              "        document.querySelector('#df-ab19628e-da93-4397-974a-5d65175a8698 button.colab-df-convert');\n",
              "      buttonEl.style.display =\n",
              "        google.colab.kernel.accessAllowed ? 'block' : 'none';\n",
              "\n",
              "      async function convertToInteractive(key) {\n",
              "        const element = document.querySelector('#df-ab19628e-da93-4397-974a-5d65175a8698');\n",
              "        const dataTable =\n",
              "          await google.colab.kernel.invokeFunction('convertToInteractive',\n",
              "                                                    [key], {});\n",
              "        if (!dataTable) return;\n",
              "\n",
              "        const docLinkHtml = 'Like what you see? Visit the ' +\n",
              "          '<a target=\"_blank\" href=https://colab.research.google.com/notebooks/data_table.ipynb>data table notebook</a>'\n",
              "          + ' to learn more about interactive tables.';\n",
              "        element.innerHTML = '';\n",
              "        dataTable['output_type'] = 'display_data';\n",
              "        await google.colab.output.renderOutput(dataTable, element);\n",
              "        const docLink = document.createElement('div');\n",
              "        docLink.innerHTML = docLinkHtml;\n",
              "        element.appendChild(docLink);\n",
              "      }\n",
              "    </script>\n",
              "  </div>\n",
              "\n",
              "\n",
              "<div id=\"df-e56f4926-9390-4542-b478-fff233c3da5b\">\n",
              "  <button class=\"colab-df-quickchart\" onclick=\"quickchart('df-e56f4926-9390-4542-b478-fff233c3da5b')\"\n",
              "            title=\"Suggest charts.\"\n",
              "            style=\"display:none;\">\n",
              "\n",
              "<svg xmlns=\"http://www.w3.org/2000/svg\" height=\"24px\"viewBox=\"0 0 24 24\"\n",
              "     width=\"24px\">\n",
              "    <g>\n",
              "        <path d=\"M19 3H5c-1.1 0-2 .9-2 2v14c0 1.1.9 2 2 2h14c1.1 0 2-.9 2-2V5c0-1.1-.9-2-2-2zM9 17H7v-7h2v7zm4 0h-2V7h2v10zm4 0h-2v-4h2v4z\"/>\n",
              "    </g>\n",
              "</svg>\n",
              "  </button>\n",
              "\n",
              "<style>\n",
              "  .colab-df-quickchart {\n",
              "      --bg-color: #E8F0FE;\n",
              "      --fill-color: #1967D2;\n",
              "      --hover-bg-color: #E2EBFA;\n",
              "      --hover-fill-color: #174EA6;\n",
              "      --disabled-fill-color: #AAA;\n",
              "      --disabled-bg-color: #DDD;\n",
              "  }\n",
              "\n",
              "  [theme=dark] .colab-df-quickchart {\n",
              "      --bg-color: #3B4455;\n",
              "      --fill-color: #D2E3FC;\n",
              "      --hover-bg-color: #434B5C;\n",
              "      --hover-fill-color: #FFFFFF;\n",
              "      --disabled-bg-color: #3B4455;\n",
              "      --disabled-fill-color: #666;\n",
              "  }\n",
              "\n",
              "  .colab-df-quickchart {\n",
              "    background-color: var(--bg-color);\n",
              "    border: none;\n",
              "    border-radius: 50%;\n",
              "    cursor: pointer;\n",
              "    display: none;\n",
              "    fill: var(--fill-color);\n",
              "    height: 32px;\n",
              "    padding: 0;\n",
              "    width: 32px;\n",
              "  }\n",
              "\n",
              "  .colab-df-quickchart:hover {\n",
              "    background-color: var(--hover-bg-color);\n",
              "    box-shadow: 0 1px 2px rgba(60, 64, 67, 0.3), 0 1px 3px 1px rgba(60, 64, 67, 0.15);\n",
              "    fill: var(--button-hover-fill-color);\n",
              "  }\n",
              "\n",
              "  .colab-df-quickchart-complete:disabled,\n",
              "  .colab-df-quickchart-complete:disabled:hover {\n",
              "    background-color: var(--disabled-bg-color);\n",
              "    fill: var(--disabled-fill-color);\n",
              "    box-shadow: none;\n",
              "  }\n",
              "\n",
              "  .colab-df-spinner {\n",
              "    border: 2px solid var(--fill-color);\n",
              "    border-color: transparent;\n",
              "    border-bottom-color: var(--fill-color);\n",
              "    animation:\n",
              "      spin 1s steps(1) infinite;\n",
              "  }\n",
              "\n",
              "  @keyframes spin {\n",
              "    0% {\n",
              "      border-color: transparent;\n",
              "      border-bottom-color: var(--fill-color);\n",
              "      border-left-color: var(--fill-color);\n",
              "    }\n",
              "    20% {\n",
              "      border-color: transparent;\n",
              "      border-left-color: var(--fill-color);\n",
              "      border-top-color: var(--fill-color);\n",
              "    }\n",
              "    30% {\n",
              "      border-color: transparent;\n",
              "      border-left-color: var(--fill-color);\n",
              "      border-top-color: var(--fill-color);\n",
              "      border-right-color: var(--fill-color);\n",
              "    }\n",
              "    40% {\n",
              "      border-color: transparent;\n",
              "      border-right-color: var(--fill-color);\n",
              "      border-top-color: var(--fill-color);\n",
              "    }\n",
              "    60% {\n",
              "      border-color: transparent;\n",
              "      border-right-color: var(--fill-color);\n",
              "    }\n",
              "    80% {\n",
              "      border-color: transparent;\n",
              "      border-right-color: var(--fill-color);\n",
              "      border-bottom-color: var(--fill-color);\n",
              "    }\n",
              "    90% {\n",
              "      border-color: transparent;\n",
              "      border-bottom-color: var(--fill-color);\n",
              "    }\n",
              "  }\n",
              "</style>\n",
              "\n",
              "  <script>\n",
              "    async function quickchart(key) {\n",
              "      const quickchartButtonEl =\n",
              "        document.querySelector('#' + key + ' button');\n",
              "      quickchartButtonEl.disabled = true;  // To prevent multiple clicks.\n",
              "      quickchartButtonEl.classList.add('colab-df-spinner');\n",
              "      try {\n",
              "        const charts = await google.colab.kernel.invokeFunction(\n",
              "            'suggestCharts', [key], {});\n",
              "      } catch (error) {\n",
              "        console.error('Error during call to suggestCharts:', error);\n",
              "      }\n",
              "      quickchartButtonEl.classList.remove('colab-df-spinner');\n",
              "      quickchartButtonEl.classList.add('colab-df-quickchart-complete');\n",
              "    }\n",
              "    (() => {\n",
              "      let quickchartButtonEl =\n",
              "        document.querySelector('#df-e56f4926-9390-4542-b478-fff233c3da5b button');\n",
              "      quickchartButtonEl.style.display =\n",
              "        google.colab.kernel.accessAllowed ? 'block' : 'none';\n",
              "    })();\n",
              "  </script>\n",
              "</div>\n",
              "    </div>\n",
              "  </div>\n"
            ]
          },
          "metadata": {},
          "execution_count": 1
        }
      ],
      "source": [
        "# Task 1\n",
        "\n",
        "import pandas as pd\n",
        "import numpy as np\n",
        "\n",
        "data_url = 'https://raw.githubusercontent.com/bloominstituteoftechnology/data-science-practice-datasets/main/unit_1/Brainhead/Brainhead.csv'\n",
        "\n",
        "# YOUR CODE HERE\n",
        "df = pd.read_csv(data_url)\n",
        "\n",
        "# Print out your DataFrame\n",
        "df.head()"
      ]
    },
    {
      "cell_type": "code",
      "source": [
        "df.shape"
      ],
      "metadata": {
        "colab": {
          "base_uri": "https://localhost:8080/"
        },
        "id": "UM4z2oaCF9AZ",
        "outputId": "c0e2d368-991b-4558-e54f-ff32978c6da3"
      },
      "execution_count": 2,
      "outputs": [
        {
          "output_type": "execute_result",
          "data": {
            "text/plain": [
              "(237, 4)"
            ]
          },
          "metadata": {},
          "execution_count": 2
        }
      ]
    },
    {
      "cell_type": "code",
      "execution_count": null,
      "metadata": {
        "deletable": false,
        "editable": false,
        "id": "28oXofQSxKLN",
        "nbgrader": {
          "cell_type": "code",
          "checksum": "94e9bf1f2fbcc5bcb864d5a79a80f518",
          "grade": true,
          "grade_id": "cell-1c36b133f6ac028d",
          "locked": true,
          "points": 1,
          "schema_version": 3,
          "solution": false,
          "task": false
        }
      },
      "outputs": [],
      "source": [
        "# Task 1 - Test\n",
        "\n",
        "assert isinstance(df, pd.DataFrame), 'Have you created a DataFrame named `df`?'\n",
        "assert len(df) == 237\n"
      ]
    },
    {
      "cell_type": "markdown",
      "metadata": {
        "id": "4eJsXuRLxKrz"
      },
      "source": [
        "**Task 2** - Fit OLS Model\n",
        "\n",
        "Run the OLS model relating head size to brain weight - you should have done this in your project yesterday. The `statsmodels.formula.api` import has been provided. After you fit your model, print out your model results.\n",
        "\n",
        "* Fit an OLS model and name your variable `model`.\n",
        "\n",
        "*Hint: Make sure to use the format Y ~ X*"
      ]
    },
    {
      "cell_type": "code",
      "execution_count": 3,
      "metadata": {
        "deletable": false,
        "id": "c9qyMXd_Hh6l",
        "nbgrader": {
          "cell_type": "code",
          "checksum": "3001d5d99a7f292e111911ab479362ef",
          "grade": false,
          "grade_id": "cell-2aa2fa6eba350a2c",
          "locked": false,
          "schema_version": 3,
          "solution": true,
          "task": false
        },
        "colab": {
          "base_uri": "https://localhost:8080/"
        },
        "outputId": "20b76610-0ed7-4547-8c59-4a00a0c245d0"
      },
      "outputs": [
        {
          "output_type": "stream",
          "name": "stdout",
          "text": [
            "                            OLS Regression Results                            \n",
            "==============================================================================\n",
            "Dep. Variable:                  Brain   R-squared:                       0.639\n",
            "Model:                            OLS   Adj. R-squared:                  0.638\n",
            "Method:                 Least Squares   F-statistic:                     416.5\n",
            "Date:                Wed, 25 Oct 2023   Prob (F-statistic):           5.96e-54\n",
            "Time:                        13:52:14   Log-Likelihood:                -1350.3\n",
            "No. Observations:                 237   AIC:                             2705.\n",
            "Df Residuals:                     235   BIC:                             2711.\n",
            "Df Model:                           1                                         \n",
            "Covariance Type:            nonrobust                                         \n",
            "==============================================================================\n",
            "                 coef    std err          t      P>|t|      [0.025      0.975]\n",
            "------------------------------------------------------------------------------\n",
            "Intercept    325.5734     47.141      6.906      0.000     232.701     418.446\n",
            "Head           0.2634      0.013     20.409      0.000       0.238       0.289\n",
            "==============================================================================\n",
            "Omnibus:                        8.329   Durbin-Watson:                   1.843\n",
            "Prob(Omnibus):                  0.016   Jarque-Bera (JB):                8.665\n",
            "Skew:                           0.366   Prob(JB):                       0.0131\n",
            "Kurtosis:                       3.584   Cond. No.                     3.66e+04\n",
            "==============================================================================\n",
            "\n",
            "Notes:\n",
            "[1] Standard Errors assume that the covariance matrix of the errors is correctly specified.\n",
            "[2] The condition number is large, 3.66e+04. This might indicate that there are\n",
            "strong multicollinearity or other numerical problems.\n"
          ]
        }
      ],
      "source": [
        "# Task 2\n",
        "\n",
        "# Import statsmodels - DON'T Delete\n",
        "from statsmodels.formula.api import ols\n",
        "\n",
        "# Model input format\n",
        "# format Y ~ X\n",
        "model = ols('Brain ~ Head', data = df).fit()\n",
        "\n",
        "# Print the model summary\n",
        "print(model.summary())"
      ]
    },
    {
      "cell_type": "code",
      "execution_count": null,
      "metadata": {
        "deletable": false,
        "editable": false,
        "id": "2Z8fWgSCxKLN",
        "nbgrader": {
          "cell_type": "code",
          "checksum": "5f89e20a472e94b28813e9c2678242d7",
          "grade": true,
          "grade_id": "cell-bb49143b30a4fcee",
          "locked": true,
          "points": 1,
          "schema_version": 3,
          "solution": false,
          "task": false
        }
      },
      "outputs": [],
      "source": [
        "# Task 2 - Test\n",
        "# Hidden tests - you will see the results when you submit to Canvas"
      ]
    },
    {
      "cell_type": "markdown",
      "metadata": {
        "id": "y21TW4n67mNq"
      },
      "source": [
        "**Task 3** - Adjusted $R^2$\n",
        "\n",
        "Using your model summary, what is the adjusted $R^2$ for this model?  \n",
        "\n",
        "* Assign the value of adjusted $R^2$ to the variable `adj_R2` (use three decimal places, e.g. 0.123). Your variable should be a float."
      ]
    },
    {
      "cell_type": "code",
      "execution_count": 12,
      "metadata": {
        "deletable": false,
        "id": "aPrHlk-fxKLO",
        "nbgrader": {
          "cell_type": "code",
          "checksum": "bf45847fe3042878d7a5943dc3aa2df8",
          "grade": false,
          "grade_id": "cell-0b8d856cc141c2a7",
          "locked": false,
          "schema_version": 3,
          "solution": true,
          "task": false
        },
        "colab": {
          "base_uri": "https://localhost:8080/"
        },
        "outputId": "3b90a6e1-ea03-45ed-c421-88e94d87b7a3"
      },
      "outputs": [
        {
          "output_type": "stream",
          "name": "stdout",
          "text": [
            "The R^2 is:  0.639\n",
            "The adjusted R^2 is:  0.638\n"
          ]
        }
      ],
      "source": [
        "# Task 3\n",
        "\n",
        "# YOUR CODE HERE\n",
        "#raise NotImplementedError()\n",
        "R2 = model.rsquared\n",
        "adj_R2 = model.rsquared_adj\n",
        "# Print the adjusted R^2 value\n",
        "print('The R^2 is: ', round(R2,3))\n",
        "print('The adjusted R^2 is: ', round(adj_R2, 3))"
      ]
    },
    {
      "cell_type": "code",
      "execution_count": null,
      "metadata": {
        "deletable": false,
        "editable": false,
        "id": "wcS5dUp-xKLP",
        "nbgrader": {
          "cell_type": "code",
          "checksum": "95912fea3cedffb0ffaafacfa45b16a0",
          "grade": true,
          "grade_id": "cell-70088d009573d8ab",
          "locked": true,
          "points": 1,
          "schema_version": 3,
          "solution": false,
          "task": false
        }
      },
      "outputs": [],
      "source": [
        "# Task 3 - Test\n",
        "\n",
        "# Hidden tests - you will see the results when you submit to Canvas"
      ]
    },
    {
      "cell_type": "markdown",
      "metadata": {
        "id": "N2INn9IjpcQv"
      },
      "source": [
        "**Task 4** - Interpret adjusted R-squared\n",
        "\n",
        "Select the correct interpretation of the R-squared value you calculated in Task 3.  Specify your answer in the next code block using `answer = `.  For example, if the correct answer is choice B, you'll type `answer = 'B'`.\n",
        "\n",
        "A: 64% of the variability in head size can be explained by differences in brain weight\n",
        "\n",
        "B: The model is accurate 64% of the time.\n",
        "\n",
        "C: 64% of the variability in brain weight can be explained by differences in head size\n",
        "\n",
        "D: We are 64% confident that we can predict variability in brain weight using differences in head size.\n"
      ]
    },
    {
      "cell_type": "code",
      "execution_count": 6,
      "metadata": {
        "deletable": false,
        "id": "UENkK4C9pcQv",
        "nbgrader": {
          "cell_type": "code",
          "checksum": "966f641c320241a7b60018b2eee4bdf5",
          "grade": false,
          "grade_id": "cell-c02b4f62d01286ac",
          "locked": false,
          "schema_version": 3,
          "solution": true,
          "task": false
        }
      },
      "outputs": [],
      "source": [
        "# Task 4\n",
        "\n",
        "# YOUR CODE HERE\n",
        "#raise NotImplementedError()\n",
        "answer = 'C'\n"
      ]
    },
    {
      "cell_type": "markdown",
      "metadata": {
        "id": "tSqVznCtpcQw"
      },
      "source": [
        "**Task 4 Test**"
      ]
    },
    {
      "cell_type": "code",
      "execution_count": null,
      "metadata": {
        "deletable": false,
        "editable": false,
        "id": "Zuj6te-UpcQw",
        "nbgrader": {
          "cell_type": "code",
          "checksum": "6fa3e36df5933c4210ce08a948a2e3b9",
          "grade": true,
          "grade_id": "cell-3970fbb1a3eaefb5",
          "locked": true,
          "points": 1,
          "schema_version": 3,
          "solution": false,
          "task": false
        }
      },
      "outputs": [],
      "source": [
        "# Task 4 - Test\n",
        "# Hidden tests - you will see the results when you submit to Canvas"
      ]
    },
    {
      "cell_type": "markdown",
      "metadata": {
        "id": "Xj2YmBd_Jl9q"
      },
      "source": [
        "**Task 5** - Encoding new variables\n",
        "\n",
        "From the data dictionary for this data set:\n",
        "\n",
        "Gender\n",
        "* 1 = male\n",
        "* 2 = female\n",
        "\n",
        "Age\n",
        "* 1 = younger than age 46\n",
        "* 2 = age 46 and older\n",
        "\n",
        "Right now age and gender are coded with 1 and 2.  A more conventional way to encode the data for our model would be to subtract \"1\" from Age and Gender so that \"1\" is now coded as \"0\" and \"2\" is now coded as \"1\".  Create two new columns in the DataFrame to do this - don't overwrite the original columns!\n",
        "\n",
        "**Your tasks:**\n",
        "\n",
        "* Create a new Series (column) for age and give it the column name `Age_01`.\n",
        "* Create a new Series (column) for gender and give it the column `Gender_01`."
      ]
    },
    {
      "cell_type": "code",
      "execution_count": 7,
      "metadata": {
        "deletable": false,
        "id": "z9z5i-EaKcj6",
        "nbgrader": {
          "cell_type": "code",
          "checksum": "c2b0791c127934a7ecb3e51fcfced239",
          "grade": false,
          "grade_id": "cell-ad1f0446a3bc99b1",
          "locked": false,
          "schema_version": 3,
          "solution": true,
          "task": false
        },
        "colab": {
          "base_uri": "https://localhost:8080/",
          "height": 206
        },
        "outputId": "f9a81688-f19c-4193-ce14-876941b1b81b"
      },
      "outputs": [
        {
          "output_type": "execute_result",
          "data": {
            "text/plain": [
              "   Gender  Age  Head  Brain  Age_01  Gender_01\n",
              "0       1    1  4512   1530       0          0\n",
              "1       1    1  3738   1297       0          0\n",
              "2       1    1  4261   1335       0          0\n",
              "3       1    1  3777   1282       0          0\n",
              "4       1    1  4177   1590       0          0"
            ],
            "text/html": [
              "\n",
              "  <div id=\"df-d99e7602-6ff3-4b2b-970f-7507e6196c74\" class=\"colab-df-container\">\n",
              "    <div>\n",
              "<style scoped>\n",
              "    .dataframe tbody tr th:only-of-type {\n",
              "        vertical-align: middle;\n",
              "    }\n",
              "\n",
              "    .dataframe tbody tr th {\n",
              "        vertical-align: top;\n",
              "    }\n",
              "\n",
              "    .dataframe thead th {\n",
              "        text-align: right;\n",
              "    }\n",
              "</style>\n",
              "<table border=\"1\" class=\"dataframe\">\n",
              "  <thead>\n",
              "    <tr style=\"text-align: right;\">\n",
              "      <th></th>\n",
              "      <th>Gender</th>\n",
              "      <th>Age</th>\n",
              "      <th>Head</th>\n",
              "      <th>Brain</th>\n",
              "      <th>Age_01</th>\n",
              "      <th>Gender_01</th>\n",
              "    </tr>\n",
              "  </thead>\n",
              "  <tbody>\n",
              "    <tr>\n",
              "      <th>0</th>\n",
              "      <td>1</td>\n",
              "      <td>1</td>\n",
              "      <td>4512</td>\n",
              "      <td>1530</td>\n",
              "      <td>0</td>\n",
              "      <td>0</td>\n",
              "    </tr>\n",
              "    <tr>\n",
              "      <th>1</th>\n",
              "      <td>1</td>\n",
              "      <td>1</td>\n",
              "      <td>3738</td>\n",
              "      <td>1297</td>\n",
              "      <td>0</td>\n",
              "      <td>0</td>\n",
              "    </tr>\n",
              "    <tr>\n",
              "      <th>2</th>\n",
              "      <td>1</td>\n",
              "      <td>1</td>\n",
              "      <td>4261</td>\n",
              "      <td>1335</td>\n",
              "      <td>0</td>\n",
              "      <td>0</td>\n",
              "    </tr>\n",
              "    <tr>\n",
              "      <th>3</th>\n",
              "      <td>1</td>\n",
              "      <td>1</td>\n",
              "      <td>3777</td>\n",
              "      <td>1282</td>\n",
              "      <td>0</td>\n",
              "      <td>0</td>\n",
              "    </tr>\n",
              "    <tr>\n",
              "      <th>4</th>\n",
              "      <td>1</td>\n",
              "      <td>1</td>\n",
              "      <td>4177</td>\n",
              "      <td>1590</td>\n",
              "      <td>0</td>\n",
              "      <td>0</td>\n",
              "    </tr>\n",
              "  </tbody>\n",
              "</table>\n",
              "</div>\n",
              "    <div class=\"colab-df-buttons\">\n",
              "\n",
              "  <div class=\"colab-df-container\">\n",
              "    <button class=\"colab-df-convert\" onclick=\"convertToInteractive('df-d99e7602-6ff3-4b2b-970f-7507e6196c74')\"\n",
              "            title=\"Convert this dataframe to an interactive table.\"\n",
              "            style=\"display:none;\">\n",
              "\n",
              "  <svg xmlns=\"http://www.w3.org/2000/svg\" height=\"24px\" viewBox=\"0 -960 960 960\">\n",
              "    <path d=\"M120-120v-720h720v720H120Zm60-500h600v-160H180v160Zm220 220h160v-160H400v160Zm0 220h160v-160H400v160ZM180-400h160v-160H180v160Zm440 0h160v-160H620v160ZM180-180h160v-160H180v160Zm440 0h160v-160H620v160Z\"/>\n",
              "  </svg>\n",
              "    </button>\n",
              "\n",
              "  <style>\n",
              "    .colab-df-container {\n",
              "      display:flex;\n",
              "      gap: 12px;\n",
              "    }\n",
              "\n",
              "    .colab-df-convert {\n",
              "      background-color: #E8F0FE;\n",
              "      border: none;\n",
              "      border-radius: 50%;\n",
              "      cursor: pointer;\n",
              "      display: none;\n",
              "      fill: #1967D2;\n",
              "      height: 32px;\n",
              "      padding: 0 0 0 0;\n",
              "      width: 32px;\n",
              "    }\n",
              "\n",
              "    .colab-df-convert:hover {\n",
              "      background-color: #E2EBFA;\n",
              "      box-shadow: 0px 1px 2px rgba(60, 64, 67, 0.3), 0px 1px 3px 1px rgba(60, 64, 67, 0.15);\n",
              "      fill: #174EA6;\n",
              "    }\n",
              "\n",
              "    .colab-df-buttons div {\n",
              "      margin-bottom: 4px;\n",
              "    }\n",
              "\n",
              "    [theme=dark] .colab-df-convert {\n",
              "      background-color: #3B4455;\n",
              "      fill: #D2E3FC;\n",
              "    }\n",
              "\n",
              "    [theme=dark] .colab-df-convert:hover {\n",
              "      background-color: #434B5C;\n",
              "      box-shadow: 0px 1px 3px 1px rgba(0, 0, 0, 0.15);\n",
              "      filter: drop-shadow(0px 1px 2px rgba(0, 0, 0, 0.3));\n",
              "      fill: #FFFFFF;\n",
              "    }\n",
              "  </style>\n",
              "\n",
              "    <script>\n",
              "      const buttonEl =\n",
              "        document.querySelector('#df-d99e7602-6ff3-4b2b-970f-7507e6196c74 button.colab-df-convert');\n",
              "      buttonEl.style.display =\n",
              "        google.colab.kernel.accessAllowed ? 'block' : 'none';\n",
              "\n",
              "      async function convertToInteractive(key) {\n",
              "        const element = document.querySelector('#df-d99e7602-6ff3-4b2b-970f-7507e6196c74');\n",
              "        const dataTable =\n",
              "          await google.colab.kernel.invokeFunction('convertToInteractive',\n",
              "                                                    [key], {});\n",
              "        if (!dataTable) return;\n",
              "\n",
              "        const docLinkHtml = 'Like what you see? Visit the ' +\n",
              "          '<a target=\"_blank\" href=https://colab.research.google.com/notebooks/data_table.ipynb>data table notebook</a>'\n",
              "          + ' to learn more about interactive tables.';\n",
              "        element.innerHTML = '';\n",
              "        dataTable['output_type'] = 'display_data';\n",
              "        await google.colab.output.renderOutput(dataTable, element);\n",
              "        const docLink = document.createElement('div');\n",
              "        docLink.innerHTML = docLinkHtml;\n",
              "        element.appendChild(docLink);\n",
              "      }\n",
              "    </script>\n",
              "  </div>\n",
              "\n",
              "\n",
              "<div id=\"df-22750efe-594b-4d4f-a84d-25d7a33d6da6\">\n",
              "  <button class=\"colab-df-quickchart\" onclick=\"quickchart('df-22750efe-594b-4d4f-a84d-25d7a33d6da6')\"\n",
              "            title=\"Suggest charts.\"\n",
              "            style=\"display:none;\">\n",
              "\n",
              "<svg xmlns=\"http://www.w3.org/2000/svg\" height=\"24px\"viewBox=\"0 0 24 24\"\n",
              "     width=\"24px\">\n",
              "    <g>\n",
              "        <path d=\"M19 3H5c-1.1 0-2 .9-2 2v14c0 1.1.9 2 2 2h14c1.1 0 2-.9 2-2V5c0-1.1-.9-2-2-2zM9 17H7v-7h2v7zm4 0h-2V7h2v10zm4 0h-2v-4h2v4z\"/>\n",
              "    </g>\n",
              "</svg>\n",
              "  </button>\n",
              "\n",
              "<style>\n",
              "  .colab-df-quickchart {\n",
              "      --bg-color: #E8F0FE;\n",
              "      --fill-color: #1967D2;\n",
              "      --hover-bg-color: #E2EBFA;\n",
              "      --hover-fill-color: #174EA6;\n",
              "      --disabled-fill-color: #AAA;\n",
              "      --disabled-bg-color: #DDD;\n",
              "  }\n",
              "\n",
              "  [theme=dark] .colab-df-quickchart {\n",
              "      --bg-color: #3B4455;\n",
              "      --fill-color: #D2E3FC;\n",
              "      --hover-bg-color: #434B5C;\n",
              "      --hover-fill-color: #FFFFFF;\n",
              "      --disabled-bg-color: #3B4455;\n",
              "      --disabled-fill-color: #666;\n",
              "  }\n",
              "\n",
              "  .colab-df-quickchart {\n",
              "    background-color: var(--bg-color);\n",
              "    border: none;\n",
              "    border-radius: 50%;\n",
              "    cursor: pointer;\n",
              "    display: none;\n",
              "    fill: var(--fill-color);\n",
              "    height: 32px;\n",
              "    padding: 0;\n",
              "    width: 32px;\n",
              "  }\n",
              "\n",
              "  .colab-df-quickchart:hover {\n",
              "    background-color: var(--hover-bg-color);\n",
              "    box-shadow: 0 1px 2px rgba(60, 64, 67, 0.3), 0 1px 3px 1px rgba(60, 64, 67, 0.15);\n",
              "    fill: var(--button-hover-fill-color);\n",
              "  }\n",
              "\n",
              "  .colab-df-quickchart-complete:disabled,\n",
              "  .colab-df-quickchart-complete:disabled:hover {\n",
              "    background-color: var(--disabled-bg-color);\n",
              "    fill: var(--disabled-fill-color);\n",
              "    box-shadow: none;\n",
              "  }\n",
              "\n",
              "  .colab-df-spinner {\n",
              "    border: 2px solid var(--fill-color);\n",
              "    border-color: transparent;\n",
              "    border-bottom-color: var(--fill-color);\n",
              "    animation:\n",
              "      spin 1s steps(1) infinite;\n",
              "  }\n",
              "\n",
              "  @keyframes spin {\n",
              "    0% {\n",
              "      border-color: transparent;\n",
              "      border-bottom-color: var(--fill-color);\n",
              "      border-left-color: var(--fill-color);\n",
              "    }\n",
              "    20% {\n",
              "      border-color: transparent;\n",
              "      border-left-color: var(--fill-color);\n",
              "      border-top-color: var(--fill-color);\n",
              "    }\n",
              "    30% {\n",
              "      border-color: transparent;\n",
              "      border-left-color: var(--fill-color);\n",
              "      border-top-color: var(--fill-color);\n",
              "      border-right-color: var(--fill-color);\n",
              "    }\n",
              "    40% {\n",
              "      border-color: transparent;\n",
              "      border-right-color: var(--fill-color);\n",
              "      border-top-color: var(--fill-color);\n",
              "    }\n",
              "    60% {\n",
              "      border-color: transparent;\n",
              "      border-right-color: var(--fill-color);\n",
              "    }\n",
              "    80% {\n",
              "      border-color: transparent;\n",
              "      border-right-color: var(--fill-color);\n",
              "      border-bottom-color: var(--fill-color);\n",
              "    }\n",
              "    90% {\n",
              "      border-color: transparent;\n",
              "      border-bottom-color: var(--fill-color);\n",
              "    }\n",
              "  }\n",
              "</style>\n",
              "\n",
              "  <script>\n",
              "    async function quickchart(key) {\n",
              "      const quickchartButtonEl =\n",
              "        document.querySelector('#' + key + ' button');\n",
              "      quickchartButtonEl.disabled = true;  // To prevent multiple clicks.\n",
              "      quickchartButtonEl.classList.add('colab-df-spinner');\n",
              "      try {\n",
              "        const charts = await google.colab.kernel.invokeFunction(\n",
              "            'suggestCharts', [key], {});\n",
              "      } catch (error) {\n",
              "        console.error('Error during call to suggestCharts:', error);\n",
              "      }\n",
              "      quickchartButtonEl.classList.remove('colab-df-spinner');\n",
              "      quickchartButtonEl.classList.add('colab-df-quickchart-complete');\n",
              "    }\n",
              "    (() => {\n",
              "      let quickchartButtonEl =\n",
              "        document.querySelector('#df-22750efe-594b-4d4f-a84d-25d7a33d6da6 button');\n",
              "      quickchartButtonEl.style.display =\n",
              "        google.colab.kernel.accessAllowed ? 'block' : 'none';\n",
              "    })();\n",
              "  </script>\n",
              "</div>\n",
              "    </div>\n",
              "  </div>\n"
            ]
          },
          "metadata": {},
          "execution_count": 7
        }
      ],
      "source": [
        "# Task 5\n",
        "\n",
        "# YOUR CODE HERE\n",
        "#raise NotImplementedError()\n",
        "df['Age_01'] = df['Age']-1\n",
        "df['Gender_01'] = df['Gender']-1\n",
        "# View the DataFrame\n",
        "df.head()"
      ]
    },
    {
      "cell_type": "code",
      "source": [
        "df.shape"
      ],
      "metadata": {
        "colab": {
          "base_uri": "https://localhost:8080/"
        },
        "id": "7knqCcpmQfHF",
        "outputId": "e443bce8-efef-4db1-d71d-ece1d2593f1d"
      },
      "execution_count": 8,
      "outputs": [
        {
          "output_type": "execute_result",
          "data": {
            "text/plain": [
              "(237, 6)"
            ]
          },
          "metadata": {},
          "execution_count": 8
        }
      ]
    },
    {
      "cell_type": "code",
      "execution_count": null,
      "metadata": {
        "deletable": false,
        "editable": false,
        "id": "EZYTh-kdxKLQ",
        "nbgrader": {
          "cell_type": "code",
          "checksum": "e9af2d4903be0d4eeb6fd0725e4b8ef5",
          "grade": true,
          "grade_id": "cell-84c1602875b4b2fd",
          "locked": true,
          "points": 1,
          "schema_version": 3,
          "solution": false,
          "task": false
        }
      },
      "outputs": [],
      "source": [
        "# Task 4 - Test\n",
        "\n",
        "assert df.shape == (237, 6), 'Did you add two new columns (and only two)?'\n"
      ]
    },
    {
      "cell_type": "markdown",
      "metadata": {
        "id": "DGuhAOmhId9d"
      },
      "source": [
        "**Task 5** - Multiple Regression (adding in \"Age\")\n",
        "\n",
        "We're going to try to improve our model by fitting a model on more than one independent parameter.\n",
        "\n",
        "* Fit a model to Y (brain weight) and X1 and X2 (head size and age group); assign your model to the variable `model_2` (make sure to use `C(Age_01)` for the age variable)\n",
        "\n",
        "*Hint: Enter the model in the format Y ~ X1 + X2*"
      ]
    },
    {
      "cell_type": "code",
      "execution_count": 10,
      "metadata": {
        "deletable": false,
        "id": "d6fY5PSPIuOi",
        "nbgrader": {
          "cell_type": "code",
          "checksum": "7242223fa9de0ce7c7ed035b811deaef",
          "grade": false,
          "grade_id": "cell-f10e617763776ff5",
          "locked": false,
          "schema_version": 3,
          "solution": true,
          "task": false
        },
        "colab": {
          "base_uri": "https://localhost:8080/"
        },
        "outputId": "d8fc033f-8e80-49b1-a531-cfa5fbe96482"
      },
      "outputs": [
        {
          "output_type": "stream",
          "name": "stdout",
          "text": [
            "                            OLS Regression Results                            \n",
            "==============================================================================\n",
            "Dep. Variable:                  Brain   R-squared:                       0.647\n",
            "Model:                            OLS   Adj. R-squared:                  0.644\n",
            "Method:                 Least Squares   F-statistic:                     214.1\n",
            "Date:                Wed, 25 Oct 2023   Prob (F-statistic):           1.38e-53\n",
            "Time:                        14:40:28   Log-Likelihood:                -1347.8\n",
            "No. Observations:                 237   AIC:                             2702.\n",
            "Df Residuals:                     234   BIC:                             2712.\n",
            "Df Model:                           2                                         \n",
            "Covariance Type:            nonrobust                                         \n",
            "==============================================================================\n",
            "                 coef    std err          t      P>|t|      [0.025      0.975]\n",
            "------------------------------------------------------------------------------\n",
            "Intercept    347.5505     47.811      7.269      0.000     253.355     441.746\n",
            "Head           0.2604      0.013     20.229      0.000       0.235       0.286\n",
            "Age_01       -20.7316      9.410     -2.203      0.029     -39.270      -2.193\n",
            "==============================================================================\n",
            "Omnibus:                        7.943   Durbin-Watson:                   1.889\n",
            "Prob(Omnibus):                  0.019   Jarque-Bera (JB):                8.238\n",
            "Skew:                           0.353   Prob(JB):                       0.0163\n",
            "Kurtosis:                       3.579   Cond. No.                     3.75e+04\n",
            "==============================================================================\n",
            "\n",
            "Notes:\n",
            "[1] Standard Errors assume that the covariance matrix of the errors is correctly specified.\n",
            "[2] The condition number is large, 3.75e+04. This might indicate that there are\n",
            "strong multicollinearity or other numerical problems.\n",
            "                            OLS Regression Results                            \n",
            "==============================================================================\n",
            "Dep. Variable:                  Brain   R-squared:                       0.647\n",
            "Model:                            OLS   Adj. R-squared:                  0.644\n",
            "Method:                 Least Squares   F-statistic:                     214.1\n",
            "Date:                Wed, 25 Oct 2023   Prob (F-statistic):           1.38e-53\n",
            "Time:                        14:40:28   Log-Likelihood:                -1347.8\n",
            "No. Observations:                 237   AIC:                             2702.\n",
            "Df Residuals:                     234   BIC:                             2712.\n",
            "Df Model:                           2                                         \n",
            "Covariance Type:            nonrobust                                         \n",
            "==================================================================================\n",
            "                     coef    std err          t      P>|t|      [0.025      0.975]\n",
            "----------------------------------------------------------------------------------\n",
            "Intercept        347.5505     47.811      7.269      0.000     253.355     441.746\n",
            "C(Age_01)[T.1]   -20.7316      9.410     -2.203      0.029     -39.270      -2.193\n",
            "Head               0.2604      0.013     20.229      0.000       0.235       0.286\n",
            "==============================================================================\n",
            "Omnibus:                        7.943   Durbin-Watson:                   1.889\n",
            "Prob(Omnibus):                  0.019   Jarque-Bera (JB):                8.238\n",
            "Skew:                           0.353   Prob(JB):                       0.0163\n",
            "Kurtosis:                       3.579   Cond. No.                     3.75e+04\n",
            "==============================================================================\n",
            "\n",
            "Notes:\n",
            "[1] Standard Errors assume that the covariance matrix of the errors is correctly specified.\n",
            "[2] The condition number is large, 3.75e+04. This might indicate that there are\n",
            "strong multicollinearity or other numerical problems.\n"
          ]
        }
      ],
      "source": [
        "# Task 5\n",
        "\n",
        "# Model input format: Y ~ X1 + X2*\n",
        "\n",
        "# YOUR CODE HERE\n",
        "#raise NotImplementedError()\n",
        "model_2 = ols('Brain ~ Head + Age_01', data = df).fit()\n",
        "model_2_ = ols('Brain ~ Head + C(Age_01)', data = df).fit()\n",
        "# Print the model summary\n",
        "print(model_2.summary())\n",
        "print(model_2_.summary())\n",
        "\n"
      ]
    },
    {
      "cell_type": "code",
      "execution_count": null,
      "metadata": {
        "deletable": false,
        "editable": false,
        "id": "-xNFIMOQxKLQ",
        "nbgrader": {
          "cell_type": "code",
          "checksum": "5221daa4d20938bddd19b4fbffe3bd8f",
          "grade": true,
          "grade_id": "cell-ba2bb42fefe49970",
          "locked": true,
          "points": 1,
          "schema_version": 3,
          "solution": false,
          "task": false
        }
      },
      "outputs": [],
      "source": [
        "# Task 5 - Test\n",
        "# Hidden tests - you will see the results when you submit to Canvas"
      ]
    },
    {
      "cell_type": "markdown",
      "metadata": {
        "id": "Bq5YE7heKoDo"
      },
      "source": [
        "**Task 6** - Statistical significance\n",
        "\n",
        "* Find the p-value for `Age_01` in your model and assign it to the variable `pval_age` (use three decimal places, e.g. 0.123). Your value should be a float.\n",
        "\n",
        "At the alpha = 0.05 level, is age group statistically significantly associated with brain weight after accounting for head size?  Explain your answer in at least one complete sentence.\n",
        "\n",
        "ANSWER:\n",
        "\n",
        "At the alpha = 0.05 level, age group is statistically significantly associated with brain weight after accounting for head size because the p-value (0.029) is less than the significance level of 0.05, indicating that there is a significant relationship between age group and brain weight while controlling for head size, and the adjusted R-squared value (0.644) suggests that age group explains a substantial proportion of the variance in brain weight after considering head size as a covariate.\n",
        "\n",
        "At the alpha = 0.01 level, is age group statistically significantly associated with brain weight after accounting for head size? Explain your answer in at least one complete sentence.\n",
        "\n",
        "ANSWER:\n",
        "\n",
        "At the alpha level of 0.01, age group is NOT statistically significantly associated with brain weight after accounting for head size because the p-value (0.029) is more than the significance level of 0.01, indicating that the relationship between age group and brain weight, when controlling for head size, is not statistically significant. The adjusted R-squared value of 0.644 indicates that the model explains a substantial amount of the variance in brain weight, but age group does not make a statistically significant contribution to this explanation at the specified alpha level.\n"
      ]
    },
    {
      "cell_type": "code",
      "execution_count": 17,
      "metadata": {
        "deletable": false,
        "id": "aDKxhiGCxKLR",
        "nbgrader": {
          "cell_type": "code",
          "checksum": "581b72de56062597038ca9723db06224",
          "grade": false,
          "grade_id": "cell-e76b59ebd9a33e39",
          "locked": false,
          "schema_version": 3,
          "solution": true,
          "task": false
        },
        "colab": {
          "base_uri": "https://localhost:8080/"
        },
        "outputId": "0a74b52f-6ac0-4dab-80c6-894fd673cff7"
      },
      "outputs": [
        {
          "output_type": "execute_result",
          "data": {
            "text/plain": [
              "0.029"
            ]
          },
          "metadata": {},
          "execution_count": 17
        }
      ],
      "source": [
        "# Task 6\n",
        "\n",
        "# YOUR CODE HERE\n",
        "#raise NotImplementedError()\n",
        "pval_age = round(model_2.pvalues[2], 3)\n",
        "pval_age\n"
      ]
    },
    {
      "cell_type": "code",
      "execution_count": null,
      "metadata": {
        "deletable": false,
        "editable": false,
        "id": "gKQLOjgIxKLS",
        "nbgrader": {
          "cell_type": "code",
          "checksum": "403cce92142fdf87d7773033bc03050d",
          "grade": true,
          "grade_id": "cell-45d090dbd7235338",
          "locked": true,
          "points": 1,
          "schema_version": 3,
          "solution": false,
          "task": false
        }
      },
      "outputs": [],
      "source": [
        "# Task 6 - Test\n",
        "\n",
        "# Hidden tests - you will see the results when you submit to Canvas"
      ]
    },
    {
      "cell_type": "markdown",
      "metadata": {
        "id": "VAdboVOmLsqR"
      },
      "source": [
        "**Task 7** - Adjusted $R^2$\n",
        "\n",
        "What is the adjusted $R^2$ for the model relating head size and age group to brain weight?  \n",
        "\n",
        "* Assign the adjusted $R^2$ value to `adj_R2_new`. This value should be a float.\n",
        "\n",
        "Does adding age group to the model increase the amount of variability in brain weight explained by the model?\n",
        "\n",
        "ANSWER:"
      ]
    },
    {
      "cell_type": "code",
      "execution_count": 29,
      "metadata": {
        "deletable": false,
        "id": "DhLlb17nxKLS",
        "nbgrader": {
          "cell_type": "code",
          "checksum": "87c9524867994e9e3438ff5c938628cf",
          "grade": false,
          "grade_id": "cell-39e56b2549fd6715",
          "locked": false,
          "schema_version": 3,
          "solution": true,
          "task": false
        },
        "colab": {
          "base_uri": "https://localhost:8080/"
        },
        "outputId": "9aaaa1e4-e8dd-435c-ffa2-111d5df10647"
      },
      "outputs": [
        {
          "output_type": "execute_result",
          "data": {
            "text/plain": [
              "0.644"
            ]
          },
          "metadata": {},
          "execution_count": 29
        }
      ],
      "source": [
        "# Task 7\n",
        "\n",
        "# YOUR CODE HERE\n",
        "#raise NotImplementedError()\n",
        "adj_R2_new = round(model_2.rsquared_adj, 3)\n",
        "\n",
        "# Print the adjusted R^2 new value\n",
        "adj_R2_new"
      ]
    },
    {
      "cell_type": "code",
      "execution_count": null,
      "metadata": {
        "deletable": false,
        "editable": false,
        "id": "sRON8GI9xKLS",
        "nbgrader": {
          "cell_type": "code",
          "checksum": "ac907b8d86db25b6db1b22b1bbf30c3b",
          "grade": true,
          "grade_id": "cell-1cce579f5ceec835",
          "locked": true,
          "points": 1,
          "schema_version": 3,
          "solution": false,
          "task": false
        }
      },
      "outputs": [],
      "source": [
        "# Task 7 - Test\n",
        "\n",
        "# Hidden tests - you will see the results when you submit to Canvas"
      ]
    },
    {
      "cell_type": "markdown",
      "metadata": {
        "id": "Je3yM5G9Mdkx"
      },
      "source": [
        "**Task 8** - Multiple Regression (adding in Gender)\n",
        "\n",
        "We're going to try another multiple regression to improve our model!\n",
        "\n",
        "* Fit a model to Y (brain weight) and X1 and X2 (head size and gender); assign your model to the variable `model_3` (make sure to use `C(Gender_01)` for the age variable).\n",
        "\n",
        "*Hint: Enter the model in the format Y ~ X1 + X2*"
      ]
    },
    {
      "cell_type": "code",
      "execution_count": 36,
      "metadata": {
        "deletable": false,
        "id": "Ii7PVMgJMnNC",
        "nbgrader": {
          "cell_type": "code",
          "checksum": "1ec5cf49f96c26a62fb56604b0bb9d82",
          "grade": false,
          "grade_id": "cell-6e2d7e8b615b59d7",
          "locked": false,
          "schema_version": 3,
          "solution": true,
          "task": false
        },
        "colab": {
          "base_uri": "https://localhost:8080/",
          "height": 508
        },
        "outputId": "be24b05d-561b-412f-e547-99263969ba2f"
      },
      "outputs": [
        {
          "output_type": "execute_result",
          "data": {
            "text/plain": [
              "<class 'statsmodels.iolib.summary.Summary'>\n",
              "\"\"\"\n",
              "                            OLS Regression Results                            \n",
              "==============================================================================\n",
              "Dep. Variable:                  Brain   R-squared:                       0.643\n",
              "Model:                            OLS   Adj. R-squared:                  0.640\n",
              "Method:                 Least Squares   F-statistic:                     211.0\n",
              "Date:                Wed, 25 Oct 2023   Prob (F-statistic):           4.15e-53\n",
              "Time:                        15:18:16   Log-Likelihood:                -1348.9\n",
              "No. Observations:                 237   AIC:                             2704.\n",
              "Df Residuals:                     234   BIC:                             2714.\n",
              "Df Model:                           2                                         \n",
              "Covariance Type:            nonrobust                                         \n",
              "=====================================================================================\n",
              "                        coef    std err          t      P>|t|      [0.025      0.975]\n",
              "-------------------------------------------------------------------------------------\n",
              "Intercept           378.7139     57.299      6.609      0.000     265.825     491.603\n",
              "C(Gender_01)[T.1]   -17.8615     11.027     -1.620      0.107     -39.586       3.863\n",
              "Head                  0.2509      0.015     16.734      0.000       0.221       0.280\n",
              "==============================================================================\n",
              "Omnibus:                        8.109   Durbin-Watson:                   1.858\n",
              "Prob(Omnibus):                  0.017   Jarque-Bera (JB):                8.403\n",
              "Skew:                           0.360   Prob(JB):                       0.0150\n",
              "Kurtosis:                       3.576   Cond. No.                     4.49e+04\n",
              "==============================================================================\n",
              "\n",
              "Notes:\n",
              "[1] Standard Errors assume that the covariance matrix of the errors is correctly specified.\n",
              "[2] The condition number is large, 4.49e+04. This might indicate that there are\n",
              "strong multicollinearity or other numerical problems.\n",
              "\"\"\""
            ],
            "text/html": [
              "<table class=\"simpletable\">\n",
              "<caption>OLS Regression Results</caption>\n",
              "<tr>\n",
              "  <th>Dep. Variable:</th>          <td>Brain</td>      <th>  R-squared:         </th> <td>   0.643</td>\n",
              "</tr>\n",
              "<tr>\n",
              "  <th>Model:</th>                   <td>OLS</td>       <th>  Adj. R-squared:    </th> <td>   0.640</td>\n",
              "</tr>\n",
              "<tr>\n",
              "  <th>Method:</th>             <td>Least Squares</td>  <th>  F-statistic:       </th> <td>   211.0</td>\n",
              "</tr>\n",
              "<tr>\n",
              "  <th>Date:</th>             <td>Wed, 25 Oct 2023</td> <th>  Prob (F-statistic):</th> <td>4.15e-53</td>\n",
              "</tr>\n",
              "<tr>\n",
              "  <th>Time:</th>                 <td>15:18:16</td>     <th>  Log-Likelihood:    </th> <td> -1348.9</td>\n",
              "</tr>\n",
              "<tr>\n",
              "  <th>No. Observations:</th>      <td>   237</td>      <th>  AIC:               </th> <td>   2704.</td>\n",
              "</tr>\n",
              "<tr>\n",
              "  <th>Df Residuals:</th>          <td>   234</td>      <th>  BIC:               </th> <td>   2714.</td>\n",
              "</tr>\n",
              "<tr>\n",
              "  <th>Df Model:</th>              <td>     2</td>      <th>                     </th>     <td> </td>   \n",
              "</tr>\n",
              "<tr>\n",
              "  <th>Covariance Type:</th>      <td>nonrobust</td>    <th>                     </th>     <td> </td>   \n",
              "</tr>\n",
              "</table>\n",
              "<table class=\"simpletable\">\n",
              "<tr>\n",
              "          <td></td>             <th>coef</th>     <th>std err</th>      <th>t</th>      <th>P>|t|</th>  <th>[0.025</th>    <th>0.975]</th>  \n",
              "</tr>\n",
              "<tr>\n",
              "  <th>Intercept</th>         <td>  378.7139</td> <td>   57.299</td> <td>    6.609</td> <td> 0.000</td> <td>  265.825</td> <td>  491.603</td>\n",
              "</tr>\n",
              "<tr>\n",
              "  <th>C(Gender_01)[T.1]</th> <td>  -17.8615</td> <td>   11.027</td> <td>   -1.620</td> <td> 0.107</td> <td>  -39.586</td> <td>    3.863</td>\n",
              "</tr>\n",
              "<tr>\n",
              "  <th>Head</th>              <td>    0.2509</td> <td>    0.015</td> <td>   16.734</td> <td> 0.000</td> <td>    0.221</td> <td>    0.280</td>\n",
              "</tr>\n",
              "</table>\n",
              "<table class=\"simpletable\">\n",
              "<tr>\n",
              "  <th>Omnibus:</th>       <td> 8.109</td> <th>  Durbin-Watson:     </th> <td>   1.858</td>\n",
              "</tr>\n",
              "<tr>\n",
              "  <th>Prob(Omnibus):</th> <td> 0.017</td> <th>  Jarque-Bera (JB):  </th> <td>   8.403</td>\n",
              "</tr>\n",
              "<tr>\n",
              "  <th>Skew:</th>          <td> 0.360</td> <th>  Prob(JB):          </th> <td>  0.0150</td>\n",
              "</tr>\n",
              "<tr>\n",
              "  <th>Kurtosis:</th>      <td> 3.576</td> <th>  Cond. No.          </th> <td>4.49e+04</td>\n",
              "</tr>\n",
              "</table><br/><br/>Notes:<br/>[1] Standard Errors assume that the covariance matrix of the errors is correctly specified.<br/>[2] The condition number is large, 4.49e+04. This might indicate that there are<br/>strong multicollinearity or other numerical problems."
            ],
            "text/latex": "\\begin{center}\n\\begin{tabular}{lclc}\n\\toprule\n\\textbf{Dep. Variable:}     &      Brain       & \\textbf{  R-squared:         } &     0.643   \\\\\n\\textbf{Model:}             &       OLS        & \\textbf{  Adj. R-squared:    } &     0.640   \\\\\n\\textbf{Method:}            &  Least Squares   & \\textbf{  F-statistic:       } &     211.0   \\\\\n\\textbf{Date:}              & Wed, 25 Oct 2023 & \\textbf{  Prob (F-statistic):} &  4.15e-53   \\\\\n\\textbf{Time:}              &     15:18:16     & \\textbf{  Log-Likelihood:    } &   -1348.9   \\\\\n\\textbf{No. Observations:}  &         237      & \\textbf{  AIC:               } &     2704.   \\\\\n\\textbf{Df Residuals:}      &         234      & \\textbf{  BIC:               } &     2714.   \\\\\n\\textbf{Df Model:}          &           2      & \\textbf{                     } &             \\\\\n\\textbf{Covariance Type:}   &    nonrobust     & \\textbf{                     } &             \\\\\n\\bottomrule\n\\end{tabular}\n\\begin{tabular}{lcccccc}\n                            & \\textbf{coef} & \\textbf{std err} & \\textbf{t} & \\textbf{P$> |$t$|$} & \\textbf{[0.025} & \\textbf{0.975]}  \\\\\n\\midrule\n\\textbf{Intercept}          &     378.7139  &       57.299     &     6.609  &         0.000        &      265.825    &      491.603     \\\\\n\\textbf{C(Gender\\_01)[T.1]} &     -17.8615  &       11.027     &    -1.620  &         0.107        &      -39.586    &        3.863     \\\\\n\\textbf{Head}               &       0.2509  &        0.015     &    16.734  &         0.000        &        0.221    &        0.280     \\\\\n\\bottomrule\n\\end{tabular}\n\\begin{tabular}{lclc}\n\\textbf{Omnibus:}       &  8.109 & \\textbf{  Durbin-Watson:     } &    1.858  \\\\\n\\textbf{Prob(Omnibus):} &  0.017 & \\textbf{  Jarque-Bera (JB):  } &    8.403  \\\\\n\\textbf{Skew:}          &  0.360 & \\textbf{  Prob(JB):          } &   0.0150  \\\\\n\\textbf{Kurtosis:}      &  3.576 & \\textbf{  Cond. No.          } & 4.49e+04  \\\\\n\\bottomrule\n\\end{tabular}\n%\\caption{OLS Regression Results}\n\\end{center}\n\nNotes: \\newline\n [1] Standard Errors assume that the covariance matrix of the errors is correctly specified. \\newline\n [2] The condition number is large, 4.49e+04. This might indicate that there are \\newline\n strong multicollinearity or other numerical problems."
          },
          "metadata": {},
          "execution_count": 36
        }
      ],
      "source": [
        "# Task 8\n",
        "\n",
        "# Model input format: Y ~ X1 + X2*\n",
        "\n",
        "# YOUR CODE HERE\n",
        "#raise NotImplementedError()\n",
        "model_3 = ols('Brain ~ Head + C(Gender_01)', data = df).fit()\n",
        "# Print the model summary\n",
        "model_3.summary()\n"
      ]
    },
    {
      "cell_type": "code",
      "execution_count": null,
      "metadata": {
        "deletable": false,
        "editable": false,
        "id": "ntDct-DqxKLT",
        "nbgrader": {
          "cell_type": "code",
          "checksum": "ee239f960ee2860a7286511017de7770",
          "grade": true,
          "grade_id": "cell-5e7bef722b7fe2ec",
          "locked": true,
          "points": 1,
          "schema_version": 3,
          "solution": false,
          "task": false
        }
      },
      "outputs": [],
      "source": [
        "# Task 8 - Test\n",
        "# Hidden tests - you will see the results when you submit to Canvas"
      ]
    },
    {
      "cell_type": "markdown",
      "metadata": {
        "id": "tYG00tRDM4E9"
      },
      "source": [
        "**Task 9** - Significance (short answer)\n",
        "\n",
        "At the alpha = 0.05 level, is gender statistically significantly associated with brain weight after accounting for head size?  Explain your answer in at least one complete sentence.\n",
        "\n",
        "ANSWER:\n",
        "\n",
        "At the alpha = 0.05 level, gender is NOT statistically significantly associated with brain weight after accounting for head size, as the p-value for gender (0.107) is greater than the chosen significance level of 0.05."
      ]
    },
    {
      "cell_type": "markdown",
      "metadata": {
        "id": "EmEI47CbC-ld"
      },
      "source": [
        "**Task 10** - Linear model equation (short answer)\n",
        "\n",
        "Write the linear model (insert the coefficients in the correct places) used to model the relationship between head size, age group and predicted brain weight. *Make sure to use the correct model!*\n",
        "\n",
        "EQUATION:"
      ]
    },
    {
      "cell_type": "markdown",
      "metadata": {
        "id": "GI170a6-o6hx"
      },
      "source": [
        "**Task 11** - Create a plot!\n",
        "\n",
        "Plot the relationship between head size and brain weight on a scatterplot. Use different color dots to represent older and younger individuals. You can use `matplotlib` or `seaborn`."
      ]
    },
    {
      "cell_type": "code",
      "execution_count": null,
      "metadata": {
        "deletable": false,
        "id": "LtYcWjOGAXo3",
        "nbgrader": {
          "cell_type": "code",
          "checksum": "8c3b6fa31cc8859c9b3448ff71034169",
          "grade": false,
          "grade_id": "cell-5fe9394388a9edfb",
          "locked": false,
          "schema_version": 3,
          "solution": true,
          "task": false
        }
      },
      "outputs": [],
      "source": [
        "# Task 11\n",
        "\n",
        "# YOUR CODE HERE\n",
        "raise NotImplementedError()"
      ]
    },
    {
      "cell_type": "markdown",
      "metadata": {
        "id": "wqv11_e7S7Ib"
      },
      "source": [
        "**Task 12** - Make predictions\n",
        "\n",
        "Estimate the brain weight of a 60-year-old with a head size of 4000 cubic cm. **Make sure to select the correct model you fit above! Look carefully at the model results so you know what order the model coefficients are given in the output.  It is *different* than the order you entered the terms in the model.**  \n",
        "\n",
        "* assign the age group (either a 0 or 1) to the variable `x1` (integer)\n",
        "* assign the head size to the variable `x2` (integer)\n",
        "* assign the intercept to `intercept` (float)\n",
        "* assign the slope parameter for the age to `slope1` (float)\n",
        "* assign the slope parameter for head size  to `slope2` (float)\n",
        "* assign the prediction to the variable `predicted` (float)"
      ]
    },
    {
      "cell_type": "code",
      "execution_count": null,
      "metadata": {
        "deletable": false,
        "id": "Az7aXj-N6sW6",
        "nbgrader": {
          "cell_type": "code",
          "checksum": "e8366107a5a02c1a25272e6393b4567e",
          "grade": false,
          "grade_id": "cell-c6a58b3a206a56d1",
          "locked": false,
          "schema_version": 3,
          "solution": true,
          "task": false
        }
      },
      "outputs": [],
      "source": [
        "# Task 12\n",
        "\n",
        "# YOUR CODE HERE\n",
        "raise NotImplementedError()\n",
        "\n",
        "# Print out variables to troubleshoot!\n",
        "#print('slope 2:', slope1)\n",
        "\n",
        "# View your prediction\n",
        "print('The predicted value for brain size is:', predicted)\n"
      ]
    },
    {
      "cell_type": "code",
      "execution_count": null,
      "metadata": {
        "deletable": false,
        "editable": false,
        "id": "ePZhMoVzxKLV",
        "nbgrader": {
          "cell_type": "code",
          "checksum": "fb123435fe49633b3d46008f52fc6ce1",
          "grade": true,
          "grade_id": "cell-4d1b9dcc5f82390f",
          "locked": true,
          "points": 1,
          "schema_version": 3,
          "solution": false,
          "task": false
        }
      },
      "outputs": [],
      "source": [
        "# Task 12 - Test\n",
        "# Hidden tests - you will see the results when you submit to Canvas"
      ]
    },
    {
      "cell_type": "markdown",
      "metadata": {
        "id": "-rhf7zmX9g3E"
      },
      "source": [
        "**Task 13** - Make another prediction\n",
        "\n",
        "Estimate the brain weight of a 20-year-old with a head size of 3900 cubic cm. Use the same slope and intercept parameters you used above. But - change your `x1` and `x2` values!\n",
        "\n",
        "* change the values for `x1` and `x2` (both are integers)\n",
        "* assign your prediction to the variable `predicted_2` (float)"
      ]
    },
    {
      "cell_type": "code",
      "execution_count": null,
      "metadata": {
        "deletable": false,
        "id": "gX01KjaSQxkF",
        "nbgrader": {
          "cell_type": "code",
          "checksum": "04176d0900f45375d7c92d205887a96f",
          "grade": false,
          "grade_id": "cell-0f16313e839553e8",
          "locked": false,
          "schema_version": 3,
          "solution": true,
          "task": false
        }
      },
      "outputs": [],
      "source": [
        "# Task 13\n",
        "\n",
        "# YOUR CODE HERE\n",
        "raise NotImplementedError()\n",
        "\n",
        "# View your prediction\n",
        "print('The predicted value for brain size is:', predicted_2)\n"
      ]
    },
    {
      "cell_type": "code",
      "execution_count": null,
      "metadata": {
        "deletable": false,
        "editable": false,
        "id": "To1R8KhhxKLV",
        "nbgrader": {
          "cell_type": "code",
          "checksum": "98120677d52f1a723a43bdcdb7b21dd7",
          "grade": true,
          "grade_id": "cell-1fdb89f3b3065c29",
          "locked": true,
          "points": 1,
          "schema_version": 3,
          "solution": false,
          "task": false
        }
      },
      "outputs": [],
      "source": [
        "# Task 13 - Test\n",
        "# Hidden tests - you will see the results when you submit to Canvas"
      ]
    },
    {
      "cell_type": "markdown",
      "metadata": {
        "id": "T1TDNIibteov"
      },
      "source": [
        "## Part B\n",
        "\n",
        "### Sleep Data\n",
        "\n",
        "Use the following information to answer the rest of the tasks in this project.\n",
        "\n",
        "Researchers recorded data on sleep duration as well as a set of ecological and constitutional variables  for a selection of mammal species. This data appears in the Sleep.csv dataset.\n",
        "\n",
        "Source: Allison, T. and Cicchetti, D. (1976), \"Sleep in Mammals: Ecological and Constitutional Correlates\",  Science, November 12, vol. 194, pp. 732-734.\n",
        "\n",
        "**Data Dictionary:**\n",
        "\n",
        "| Variable Name |            Description           |                                                                 Details                                                                 |              |   |\n",
        "|:-------------:|:--------------------------------:|:---------------------------------------------------------------------------------------------------------------------------------------:|--------------|---|\n",
        "| Animal        |            Animal name           |                                                            Character [string]                                                           |    |   |\n",
        "| Body          |            Body weight           |                                                               Numeric [kg]                                                              |       |   |\n",
        "| Brain         |           Brain weight           |                                                               Numeric [g]                                                               |  |   |\n",
        "| SWsleep       | Slow wave (“non-dreaming”) sleep | Numeric [hours]                                                                                                                         |              |   |\n",
        "| Parasleep     | Paradoxical (“dreaming”) sleep   | Numeric [hours]                                                                                                                         |              |   |\n",
        "| Totsleep      | Total sleep                      | Numeric [hours]                                                                                                                         |              |   |\n",
        "| Life          | Maximum life expectancy          | Numeric [years]                                                                                                                         |              |   |\n",
        "| Gest          | Gestation time                   | Numeric [days]                                                                                                                          |              |   |\n",
        "| Pred          | Predation index                  | Numeric [1 – 5] 1 = least likely to be preyed upon, 5 = most likely to be preyed upon                                                   |              |   |\n",
        "| Exposure      | Sleep exposure index             | Numeric [1 – 5] 1 = least amount of exposure during sleep (mammal sleeps indoors or in a den), 5 = most amount of exposure during sleep |              |   |\n",
        "| Danger        | Overall danger index             | Numeric [ 1 – 5] 1 = least amount of danger from other animals, 5 = most amount of danger from other animals                            |              |   |\n",
        "\n"
      ]
    },
    {
      "cell_type": "markdown",
      "metadata": {
        "id": "lAGRV2LkuKyw",
        "outputId": "ccabb7fa-9b46-476b-f8e7-f670f7ad3858"
      },
      "source": [
        "**Task 14**\n",
        "\n",
        "Before we can look at the data, we need to load in the data. The URL has been provided.\n",
        "\n",
        "* Load in the CSV file as a DataFrame and assign it to the variable `df_sleep`.\n",
        "* Make sure to view the DataFrame!"
      ]
    },
    {
      "cell_type": "code",
      "execution_count": null,
      "metadata": {
        "deletable": false,
        "id": "DFlrjGquxKLW",
        "nbgrader": {
          "cell_type": "code",
          "checksum": "4384083bf0047a1d40593ed3c1a1a7bd",
          "grade": false,
          "grade_id": "cell-3a230410ee200f46",
          "locked": false,
          "schema_version": 3,
          "solution": true,
          "task": false
        }
      },
      "outputs": [],
      "source": [
        "# Task 14\n",
        "\n",
        "# Dataset URL - don't delete!\n",
        "data_url_2 = 'https://raw.githubusercontent.com/bloominstituteoftechnology/data-science-practice-datasets/main/unit_1/Sleep/Sleep.csv'\n",
        "\n",
        "# YOUR CODE HERE\n",
        "raise NotImplementedError()\n",
        "\n",
        "# Print out your DataFrame\n",
        "df_sleep.head()"
      ]
    },
    {
      "cell_type": "markdown",
      "metadata": {
        "id": "QNcpKKKYfeFj"
      },
      "source": [
        "At the end of the guided project, we'd decided that the best model of dreaming sleep has the two variables gestation time and danger index (Adjusted R-squared about 50%).\n",
        "\n",
        "\n",
        "However, danger index was engineered from both predation index and exposure.  Perhaps one of those features is really more important in predicting dreaming sleep.  Can we improve model fit by replacing danger index with predation index or exposure index?"
      ]
    },
    {
      "cell_type": "markdown",
      "metadata": {
        "id": "XYs1IpYNk8Zw"
      },
      "source": [
        "**Task 15** - Multiple Regression Model\n",
        "\n",
        "Run an OLS model using the log of gestation time and predation index to predict the amount of time spent in dreaming sleep.  Is predation index a better predictor of the amount of time spent in dreaming sleep than danger index?\n",
        "* Fit a model to Y (dreaming sleep) and X1 and X2 (gestational time and predation index); assign your model to the variable `model_sleep1` (make sure to use `C(Pred)` for the predation index variable)\n",
        "* Print the model summary\n",
        "* Examine the adjusted R-quared and compare it to the adjusted R-squared from the model with gestational time and danger index.\n",
        "* Choose the letter of the correct answer from the answer choices listed below and assign that letter to `answer`.  For example, if your answer is choice B, in the solution block you will type `answer = 'B'`.\n",
        "\n",
        "\n",
        "Answer choices:\n",
        "\n",
        "**A:** The adjusted r-squared for the model with predation index is greater than the adjusted r-squared for the model with danger index, therefore predation index is a better predictor of dreaming sleep.\n",
        "\n",
        "**B:** The adjusted r-squared for the model with predation index is less than than the adjusted r-squared for the model with danger index, therefore predation index is a better predictor of dreaming sleep.\n",
        "\n",
        "**C:** The adjusted r-squared for the model with predation index is less than than the adjusted r-squared for the model with danger index, therefore predation index is not as good a predictor of dreaming sleep.\n",
        "\n",
        "**D:** The adjusted r-squared for the model with predation index is greater than than the adjusted r-squared for the model with danger index, therefore predation index is not as good a predictor of dreaming sleep."
      ]
    },
    {
      "cell_type": "code",
      "execution_count": null,
      "metadata": {
        "deletable": false,
        "id": "t9xM-7Z3xKLY",
        "nbgrader": {
          "cell_type": "code",
          "checksum": "7bfcfe30bf785210f981163406005188",
          "grade": false,
          "grade_id": "cell-1c00b428d5be8030",
          "locked": false,
          "schema_version": 3,
          "solution": true,
          "task": false
        }
      },
      "outputs": [],
      "source": [
        "# Task 15\n",
        "# complete the log of gestational time - DO NOT DELETE\n",
        "\n",
        "import numpy as np\n",
        "log_gest = np.log(df_sleep['Gest'])\n",
        "\n",
        "# YOUR CODE HERE\n",
        "raise NotImplementedError()\n",
        "\n"
      ]
    },
    {
      "cell_type": "code",
      "execution_count": null,
      "metadata": {
        "deletable": false,
        "editable": false,
        "id": "hvrMEfiPEUlx",
        "nbgrader": {
          "cell_type": "code",
          "checksum": "889a2b5c94b0f38b5c88601332b6cadf",
          "grade": true,
          "grade_id": "cell-1161a4fd34666d28",
          "locked": true,
          "points": 1,
          "schema_version": 3,
          "solution": false,
          "task": false
        }
      },
      "outputs": [],
      "source": [
        "# Task 15 - Test\n",
        "# Hidden tests - you will see the results when you submit to Canvas"
      ]
    },
    {
      "cell_type": "markdown",
      "metadata": {
        "id": "bce2Pv8RE3u2"
      },
      "source": [
        "**Task 16** - Multiple Regression Model\n",
        "\n",
        "Run an OLS model using the log of gestation time and exposure index to predict the amount of time spent in dreaming sleep.  Is exposure index a better predictor of amount of time spent in dreaming sleep than danger index?\n",
        "* Fit a model to Y (dreaming sleep) and X1 and X2 (gestational time and exposure index); assign your model to the variable `model_sleep2` (make sure to use `C(Exposure)` for the exposure index variable)\n",
        "* Print the model summary\n",
        "* Examine the adjusted R-quared and compare it to the adjusted R-squared from the model with gestational time and danger index.\n",
        "* Choose the letter of the correct answer from the answer choices listed below and assign that letter to `answer`.  For example, if your answer is choice B, in the solution block you will type `answer = 'B'`.\n",
        "\n",
        "\n",
        "Answer choices:\n",
        "\n",
        "**A:** The adjusted r-squared for the model with exposure index is greater than the adjusted r-squared for the model with danger index, therefore exposure index is a better predictor of dreaming sleep.\n",
        "\n",
        "**B:** The adjusted r-squared for the model with exposure index is less than than the adjusted r-squared for the model with danger index, therefore exposure index is a better predictor of dreaming sleep.\n",
        "\n",
        "**C:** The adjusted r-squared for the model with exposure index is less than than the adjusted r-squared for the model with danger index, therefore exposure index is not as good a predictor of dreaming sleep.\n",
        "\n",
        "**D:** The adjusted r-squared for the model with exposure index is greater than than the adjusted r-squared for the model with danger index, therefore exposure index is not as good a predictor of dreaming sleep."
      ]
    },
    {
      "cell_type": "code",
      "execution_count": null,
      "metadata": {
        "deletable": false,
        "id": "2gWcjeocGVpR",
        "nbgrader": {
          "cell_type": "code",
          "checksum": "ae7d1504ab176727a49fd1fdd1e05675",
          "grade": false,
          "grade_id": "cell-2e14151d6dcd21d2",
          "locked": false,
          "schema_version": 3,
          "solution": true,
          "task": false
        }
      },
      "outputs": [],
      "source": [
        "# Task 16\n",
        "\n",
        "# YOUR CODE HERE\n",
        "raise NotImplementedError()\n",
        "\n"
      ]
    },
    {
      "cell_type": "code",
      "execution_count": null,
      "metadata": {
        "deletable": false,
        "editable": false,
        "id": "Ehw7vT-CGgZM",
        "nbgrader": {
          "cell_type": "code",
          "checksum": "b9a500062ca2654deb07652038189619",
          "grade": true,
          "grade_id": "cell-7636eb3cff27dfd9",
          "locked": true,
          "points": 1,
          "schema_version": 3,
          "solution": false,
          "task": false
        }
      },
      "outputs": [],
      "source": [
        "# Task 16 - Test\n",
        "# Hidden tests - you will see the results when you submit to Canvas"
      ]
    }
  ],
  "metadata": {
    "colab": {
      "provenance": [],
      "include_colab_link": true
    },
    "kernelspec": {
      "display_name": "Python 3",
      "language": "python",
      "name": "python3"
    },
    "language_info": {
      "codemirror_mode": {
        "name": "ipython",
        "version": 3
      },
      "file_extension": ".py",
      "mimetype": "text/x-python",
      "name": "python",
      "nbconvert_exporter": "python",
      "pygments_lexer": "ipython3",
      "version": "3.8.8"
    }
  },
  "nbformat": 4,
  "nbformat_minor": 0
}