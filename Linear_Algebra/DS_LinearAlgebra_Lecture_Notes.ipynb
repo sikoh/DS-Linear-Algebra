{
  "nbformat": 4,
  "nbformat_minor": 0,
  "metadata": {
    "colab": {
      "provenance": [],
      "collapsed_sections": [
        "fH0mrztHNjzI",
        "TltR1jtYRhbg",
        "pU7Q7hbWSwHp",
        "aJt-S8zA_Lk9",
        "46cJIv0YL7Jp",
        "59wg1nvaiJeX"
      ],
      "include_colab_link": true
    },
    "kernelspec": {
      "display_name": "Python 3",
      "language": "python",
      "name": "python3"
    },
    "language_info": {
      "codemirror_mode": {
        "name": "ipython",
        "version": 3
      },
      "file_extension": ".py",
      "mimetype": "text/x-python",
      "name": "python",
      "nbconvert_exporter": "python",
      "pygments_lexer": "ipython3",
      "version": "3.8.8"
    }
  },
  "cells": [
    {
      "cell_type": "markdown",
      "metadata": {
        "id": "view-in-github",
        "colab_type": "text"
      },
      "source": [
        "<a href=\"https://colab.research.google.com/github/sikoh/DS-Linear-Algebra/blob/main/Linear_Algebra/DS_LinearAlgebra_Lecture_Notes.ipynb\" target=\"_parent\"><img src=\"https://colab.research.google.com/assets/colab-badge.svg\" alt=\"Open In Colab\"/></a>"
      ]
    },
    {
      "cell_type": "markdown",
      "metadata": {
        "id": "iovQcSbqJl0_"
      },
      "source": [
        "## Objectives:\n",
        "- define a vector and calculate a vector length and dot product\n",
        "- define a matrix and calculate a matrix dot product, transpose, and inverse\n",
        "- explain cosine similarity and compute the similarity between two vectors\n",
        "- use linear algebra to solve for linear regression coefficients"
      ]
    },
    {
      "cell_type": "markdown",
      "metadata": {
        "id": "YUZLVK1mJdSm"
      },
      "source": [
        "#Objective - define a vector and calculate a vector length and dot product"
      ]
    },
    {
      "cell_type": "markdown",
      "metadata": {
        "id": "P1wyKUbyoFmR"
      },
      "source": [
        "# Yesterday...\n",
        "\n",
        "We built a linear model where we determined that long bone nitrogen composition and burial application of Quicklime (yes or no) were the best predictors of length of interment.\n",
        "\n",
        "That was a good practical exercise in model building, but it should leave us with two big questions.\n",
        "\n",
        "\n",
        "\n",
        "1.   What was the computer doing \"behind the scenes\" to calculate the slope and intercept from our data?\n",
        "2.   What would we do if we had so many predictors we could never evaluate each \"by hand\" the way we did in the longbones example.\n",
        "\n",
        "\n",
        "\n"
      ]
    },
    {
      "cell_type": "markdown",
      "metadata": {
        "id": "0qSIFjkmO5eo"
      },
      "source": [
        "## Linear Algebra - Introduction\n",
        "\n",
        "### What was the computer doing \"behind the scenes\" to calculate the slope and intercept from our data?\n",
        "\n",
        "The above is a question that you should be asking yourself through this course. While computers are fast and accurate, they can only do what we ask them to do. It's the human's job to understand *what* we are asking the computer to do.\n",
        "\n",
        "So far, the computer has been handling all of the math (and linear algebra) operations. But, now it's our turn to learn a little more about these concepts and how we apply them to learn about data.\n",
        "\n",
        "### Vectors\n",
        "\n",
        "We've already used vectors many times in this course, so this data structure is probably familiar. Let's start with a *vector*, represented here with the small arrow over the lower-case *a*:\n",
        "\n",
        "$$\\vec{a} = \\begin{bmatrix}3 & 4\\end{bmatrix}$$\n",
        "\n",
        "This is a two-dimensional vector and is easy to plot:"
      ]
    },
    {
      "cell_type": "code",
      "metadata": {
        "id": "dC1ZEpq-PC1f",
        "colab": {
          "base_uri": "https://localhost:8080/",
          "height": 452
        },
        "outputId": "df999d88-f194-41ac-a35c-0cf3025ebd2d"
      },
      "source": [
        "import matplotlib.pyplot as plt\n",
        "\n",
        "# Create the vector\n",
        "vector = [3, 4]\n",
        "\n",
        "plt.arrow(0, 0, vector[0], vector[1], width=.05)\n",
        "plt.xlim(-1, 4); plt.ylim(-1, 5)"
      ],
      "execution_count": null,
      "outputs": [
        {
          "output_type": "execute_result",
          "data": {
            "text/plain": [
              "(-1.0, 5.0)"
            ]
          },
          "metadata": {},
          "execution_count": 1
        },
        {
          "output_type": "display_data",
          "data": {
            "text/plain": [
              "<Figure size 640x480 with 1 Axes>"
            ],
            "image/png": "[encoded data removed]"
          },
          "metadata": {}
        }
      ]
    },
    {
      "cell_type": "markdown",
      "metadata": {
        "id": "27Kl2o36QC49"
      },
      "source": [
        "We just plotted a two-dimensional vector. But vectors can have many more dimensions! Here is a 10-dimensional vector:\n",
        "\n",
        "$$\\vec{a} = \\begin{bmatrix}3 & 4 & 5 & 9 & 2 & 5 & 3 & 8 & 2 &6\\end{bmatrix}$$\n",
        "\n",
        "How would we plot this vector? We've could plot a three-dimensional vector if we added another dimension to our first plot above. But we can't really create plots for a vector with more than three dimensions.\n",
        "\n",
        "But, this doesn't stop us from using vectors, representing our data in vector form, and doing various mathemetical operations with vectors.\n",
        "\n",
        "### Vector Math\n",
        "\n",
        "There are many excellent introductions to linear algebra so we'll keep this section short.\n",
        "\n",
        "#### Vector length\n",
        "\n",
        "The *length* (or *norm*) of a vector (two-dimensional or thousands of dimensions) is the sum of the squares of each element, followed by calculating  the square root:\n",
        "\n",
        "$$||\\vec{a}|| = \\sqrt{a_1^2 + a_2^2} = \\sqrt{4^2 + 3 ^2} = \\sqrt{16+9} = \\sqrt{25} = 5$$\n",
        "\n",
        "#### Vector dot product\n",
        "\n",
        "The dot product is a kind of multiplication where we're *applying* one vector to another; let's look at the math for now and let the conceptual understanding come later.\n",
        "\n",
        "We'll calculate the dot product for vectors $\\vec{b}$ and $\\vec{c}$:\n",
        "\n",
        "$$\n",
        "\\vec{b} = \\begin{bmatrix}4 & 8 & 5\\end{bmatrix}\n",
        "\\qquad\n",
        "\\vec{c} = \\begin{bmatrix} 6 & 2 & 5\\end{bmatrix}\n",
        "$$\n",
        "\n",
        "The dot product notation looks like this:\n",
        "\n",
        "$$\\vec{b} \\cdot \\vec{c}$$\n",
        "\n",
        "It represents the sum of the element-wise multiplication of the two vectors:\n",
        "\n",
        "$$\\vec{b} \\cdot \\vec{c} = b_{1}c_{1} + b_{2}c_{2} + b_{3}c_{3}$$\n",
        "$$ = (4)(6) + (8)(2) + (5)(5) $$\n",
        "$$ = 24 + 16 + 25 $$\n",
        "$$ = 65 $$\n",
        "\n"
      ]
    },
    {
      "cell_type": "markdown",
      "metadata": {
        "id": "PqAzwPFqscxy"
      },
      "source": [
        "That's a quick overview of vectors and some of the mathematical operations. Now, what if we consider a data structure that contains more than one vector?"
      ]
    },
    {
      "cell_type": "markdown",
      "metadata": {
        "id": "Z1fSRDotJlNR"
      },
      "source": [
        "#Objective - define a matrix and calculate a matrix dot product, transpose and inverse"
      ]
    },
    {
      "cell_type": "markdown",
      "metadata": {
        "id": "_3uzRFr5_53h"
      },
      "source": [
        "###Matrices"
      ]
    },
    {
      "cell_type": "markdown",
      "metadata": {
        "id": "dKYeFAUbaP4j"
      },
      "source": [
        "A **matrix** is a rectangular grid of numbers arranged in rows and columns. Variables that represent matrices are typically written as capital letters (boldfaced as well if you want to be super formal).\n",
        "\n",
        "\\begin{align}\n",
        "A =\n",
        "    \\begin{bmatrix}\n",
        "           1 & 2 & 3\\\\\n",
        "           4 & 5 & 6\\\\\n",
        "           7 & 8 & 9\n",
        "    \\end{bmatrix}\n",
        "    \\qquad\n",
        "    B = \\begin{bmatrix}\n",
        "           1 & 2 & 3\\\\\n",
        "           4 & 5 & 6\n",
        "    \\end{bmatrix}\n",
        " \\end{align}\n"
      ]
    },
    {
      "cell_type": "markdown",
      "metadata": {
        "id": "4oKAHHil-0bm"
      },
      "source": [
        "The number of rows and columns that a matrix has is called its **dimension**.\n",
        "\n",
        "When listing the dimension of a matrix we always list rows first and then columns.\n",
        "\n",
        "The dimension of matrix A is 3x3. (Note: This is read \"Three by Three\", the 'x' isn't a multiplication sign.)"
      ]
    },
    {
      "cell_type": "markdown",
      "metadata": {
        "id": "qboshEi2zbh9"
      },
      "source": [
        "#Using linear algebra to model the relationship of long bone nitrogen composition to interment time."
      ]
    },
    {
      "cell_type": "markdown",
      "metadata": {
        "id": "6UaV8JLt-0EU"
      },
      "source": [
        "In linear regression, the formula that relates every value of x to its value of y is  \n",
        "\n",
        "$$y_i = b_0 + b_1x_i + \\epsilon_i$$\n",
        "\n",
        "Where $y_i$ is y value for the ith individual, $x_i$ is the x-value for the ith individual and $\\epsilon_i$ is the residual for the ith individual.  \n",
        "\n"
      ]
    },
    {
      "cell_type": "markdown",
      "metadata": {
        "id": "6fOMAr4OCTjQ"
      },
      "source": [
        "###We input all the values of $x_i$ and $y_i$ into matrices and use those to solve for $b_0$ and $b_1$"
      ]
    },
    {
      "cell_type": "code",
      "metadata": {
        "id": "sJegaDmRn0a6",
        "colab": {
          "base_uri": "https://localhost:8080/",
          "height": 206
        },
        "outputId": "7d4b047c-1bf9-430b-9b1d-4869c6554b9b"
      },
      "source": [
        "#Import the Longbones.csv dataset from a URL and print the first few rows\n",
        "\n",
        "import pandas as pd\n",
        "import numpy as np\n",
        "\n",
        "\n",
        "data_url = 'https://raw.githubusercontent.com/LambdaSchool/data-science-practice-datasets/main/unit_1/Longbones/Longbones.csv'\n",
        "\n",
        "df = pd.read_csv(data_url, skipinitialspace=True, header=0)\n",
        "\n",
        "#Drop records with NAs and rename the dataset longbones\n",
        "\n",
        "longbones = df.dropna()\n",
        "\n",
        "longbones.head()"
      ],
      "execution_count": null,
      "outputs": [
        {
          "output_type": "execute_result",
          "data": {
            "text/plain": [
              "   Site  Time  Depth  Lime   Age  Nitro  Oil\n",
              "3     1  71.8    7.6     1  65.0   3.88    0\n",
              "4     1  70.6    7.5     1  42.0   3.53    0\n",
              "5     1  68.0    7.0     1  28.0   3.93    0\n",
              "6     1  71.6    8.0     1  35.0   3.88    0\n",
              "7     1  70.2    6.0     1  44.0   3.64    0"
            ],
            "text/html": [
              "\n",
              "  <div id=\"df-595a28b8-28ec-4443-9c7e-aa7049ad0459\" class=\"colab-df-container\">\n",
              "    <div>\n",
              "<style scoped>\n",
              "    .dataframe tbody tr th:only-of-type {\n",
              "        vertical-align: middle;\n",
              "    }\n",
              "\n",
              "    .dataframe tbody tr th {\n",
              "        vertical-align: top;\n",
              "    }\n",
              "\n",
              "    .dataframe thead th {\n",
              "        text-align: right;\n",
              "    }\n",
              "</style>\n",
              "<table border=\"1\" class=\"dataframe\">\n",
              "  <thead>\n",
              "    <tr style=\"text-align: right;\">\n",
              "      <th></th>\n",
              "      <th>Site</th>\n",
              "      <th>Time</th>\n",
              "      <th>Depth</th>\n",
              "      <th>Lime</th>\n",
              "      <th>Age</th>\n",
              "      <th>Nitro</th>\n",
              "      <th>Oil</th>\n",
              "    </tr>\n",
              "  </thead>\n",
              "  <tbody>\n",
              "    <tr>\n",
              "      <th>3</th>\n",
              "      <td>1</td>\n",
              "      <td>71.8</td>\n",
              "      <td>7.6</td>\n",
              "      <td>1</td>\n",
              "      <td>65.0</td>\n",
              "      <td>3.88</td>\n",
              "      <td>0</td>\n",
              "    </tr>\n",
              "    <tr>\n",
              "      <th>4</th>\n",
              "      <td>1</td>\n",
              "      <td>70.6</td>\n",
              "      <td>7.5</td>\n",
              "      <td>1</td>\n",
              "      <td>42.0</td>\n",
              "      <td>3.53</td>\n",
              "      <td>0</td>\n",
              "    </tr>\n",
              "    <tr>\n",
              "      <th>5</th>\n",
              "      <td>1</td>\n",
              "      <td>68.0</td>\n",
              "      <td>7.0</td>\n",
              "      <td>1</td>\n",
              "      <td>28.0</td>\n",
              "      <td>3.93</td>\n",
              "      <td>0</td>\n",
              "    </tr>\n",
              "    <tr>\n",
              "      <th>6</th>\n",
              "      <td>1</td>\n",
              "      <td>71.6</td>\n",
              "      <td>8.0</td>\n",
              "      <td>1</td>\n",
              "      <td>35.0</td>\n",
              "      <td>3.88</td>\n",
              "      <td>0</td>\n",
              "    </tr>\n",
              "    <tr>\n",
              "      <th>7</th>\n",
              "      <td>1</td>\n",
              "      <td>70.2</td>\n",
              "      <td>6.0</td>\n",
              "      <td>1</td>\n",
              "      <td>44.0</td>\n",
              "      <td>3.64</td>\n",
              "      <td>0</td>\n",
              "    </tr>\n",
              "  </tbody>\n",
              "</table>\n",
              "</div>\n",
              "    <div class=\"colab-df-buttons\">\n",
              "\n",
              "  <div class=\"colab-df-container\">\n",
              "    <button class=\"colab-df-convert\" onclick=\"convertToInteractive('df-595a28b8-28ec-4443-9c7e-aa7049ad0459')\"\n",
              "            title=\"Convert this dataframe to an interactive table.\"\n",
              "            style=\"display:none;\">\n",
              "\n",
              "  <svg xmlns=\"http://www.w3.org/2000/svg\" height=\"24px\" viewBox=\"0 -960 960 960\">\n",
              "    <path d=\"M120-120v-720h720v720H120Zm60-500h600v-160H180v160Zm220 220h160v-160H400v160Zm0 220h160v-160H400v160ZM180-400h160v-160H180v160Zm440 0h160v-160H620v160ZM180-180h160v-160H180v160Zm440 0h160v-160H620v160Z\"/>\n",
              "  </svg>\n",
              "    </button>\n",
              "\n",
              "  <style>\n",
              "    .colab-df-container {\n",
              "      display:flex;\n",
              "      gap: 12px;\n",
              "    }\n",
              "\n",
              "    .colab-df-convert {\n",
              "      background-color: #E8F0FE;\n",
              "      border: none;\n",
              "      border-radius: 50%;\n",
              "      cursor: pointer;\n",
              "      display: none;\n",
              "      fill: #1967D2;\n",
              "      height: 32px;\n",
              "      padding: 0 0 0 0;\n",
              "      width: 32px;\n",
              "    }\n",
              "\n",
              "    .colab-df-convert:hover {\n",
              "      background-color: #E2EBFA;\n",
              "      box-shadow: 0px 1px 2px rgba(60, 64, 67, 0.3), 0px 1px 3px 1px rgba(60, 64, 67, 0.15);\n",
              "      fill: #174EA6;\n",
              "    }\n",
              "\n",
              "    .colab-df-buttons div {\n",
              "      margin-bottom: 4px;\n",
              "    }\n",
              "\n",
              "    [theme=dark] .colab-df-convert {\n",
              "      background-color: #3B4455;\n",
              "      fill: #D2E3FC;\n",
              "    }\n",
              "\n",
              "    [theme=dark] .colab-df-convert:hover {\n",
              "      background-color: #434B5C;\n",
              "      box-shadow: 0px 1px 3px 1px rgba(0, 0, 0, 0.15);\n",
              "      filter: drop-shadow(0px 1px 2px rgba(0, 0, 0, 0.3));\n",
              "      fill: #FFFFFF;\n",
              "    }\n",
              "  </style>\n",
              "\n",
              "    <script>\n",
              "      const buttonEl =\n",
              "        document.querySelector('#df-595a28b8-28ec-4443-9c7e-aa7049ad0459 button.colab-df-convert');\n",
              "      buttonEl.style.display =\n",
              "        google.colab.kernel.accessAllowed ? 'block' : 'none';\n",
              "\n",
              "      async function convertToInteractive(key) {\n",
              "        const element = document.querySelector('#df-595a28b8-28ec-4443-9c7e-aa7049ad0459');\n",
              "        const dataTable =\n",
              "          await google.colab.kernel.invokeFunction('convertToInteractive',\n",
              "                                                    [key], {});\n",
              "        if (!dataTable) return;\n",
              "\n",
              "        const docLinkHtml = 'Like what you see? Visit the ' +\n",
              "          '<a target=\"_blank\" href=https://colab.research.google.com/notebooks/data_table.ipynb>data table notebook</a>'\n",
              "          + ' to learn more about interactive tables.';\n",
              "        element.innerHTML = '';\n",
              "        dataTable['output_type'] = 'display_data';\n",
              "        await google.colab.output.renderOutput(dataTable, element);\n",
              "        const docLink = document.createElement('div');\n",
              "        docLink.innerHTML = docLinkHtml;\n",
              "        element.appendChild(docLink);\n",
              "      }\n",
              "    </script>\n",
              "  </div>\n",
              "\n",
              "\n",
              "<div id=\"df-69ef60b6-a581-4fb8-8c17-49372c2c3cf9\">\n",
              "  <button class=\"colab-df-quickchart\" onclick=\"quickchart('df-69ef60b6-a581-4fb8-8c17-49372c2c3cf9')\"\n",
              "            title=\"Suggest charts.\"\n",
              "            style=\"display:none;\">\n",
              "\n",
              "<svg xmlns=\"http://www.w3.org/2000/svg\" height=\"24px\"viewBox=\"0 0 24 24\"\n",
              "     width=\"24px\">\n",
              "    <g>\n",
              "        <path d=\"M19 3H5c-1.1 0-2 .9-2 2v14c0 1.1.9 2 2 2h14c1.1 0 2-.9 2-2V5c0-1.1-.9-2-2-2zM9 17H7v-7h2v7zm4 0h-2V7h2v10zm4 0h-2v-4h2v4z\"/>\n",
              "    </g>\n",
              "</svg>\n",
              "  </button>\n",
              "\n",
              "<style>\n",
              "  .colab-df-quickchart {\n",
              "      --bg-color: #E8F0FE;\n",
              "      --fill-color: #1967D2;\n",
              "      --hover-bg-color: #E2EBFA;\n",
              "      --hover-fill-color: #174EA6;\n",
              "      --disabled-fill-color: #AAA;\n",
              "      --disabled-bg-color: #DDD;\n",
              "  }\n",
              "\n",
              "  [theme=dark] .colab-df-quickchart {\n",
              "      --bg-color: #3B4455;\n",
              "      --fill-color: #D2E3FC;\n",
              "      --hover-bg-color: #434B5C;\n",
              "      --hover-fill-color: #FFFFFF;\n",
              "      --disabled-bg-color: #3B4455;\n",
              "      --disabled-fill-color: #666;\n",
              "  }\n",
              "\n",
              "  .colab-df-quickchart {\n",
              "    background-color: var(--bg-color);\n",
              "    border: none;\n",
              "    border-radius: 50%;\n",
              "    cursor: pointer;\n",
              "    display: none;\n",
              "    fill: var(--fill-color);\n",
              "    height: 32px;\n",
              "    padding: 0;\n",
              "    width: 32px;\n",
              "  }\n",
              "\n",
              "  .colab-df-quickchart:hover {\n",
              "    background-color: var(--hover-bg-color);\n",
              "    box-shadow: 0 1px 2px rgba(60, 64, 67, 0.3), 0 1px 3px 1px rgba(60, 64, 67, 0.15);\n",
              "    fill: var(--button-hover-fill-color);\n",
              "  }\n",
              "\n",
              "  .colab-df-quickchart-complete:disabled,\n",
              "  .colab-df-quickchart-complete:disabled:hover {\n",
              "    background-color: var(--disabled-bg-color);\n",
              "    fill: var(--disabled-fill-color);\n",
              "    box-shadow: none;\n",
              "  }\n",
              "\n",
              "  .colab-df-spinner {\n",
              "    border: 2px solid var(--fill-color);\n",
              "    border-color: transparent;\n",
              "    border-bottom-color: var(--fill-color);\n",
              "    animation:\n",
              "      spin 1s steps(1) infinite;\n",
              "  }\n",
              "\n",
              "  @keyframes spin {\n",
              "    0% {\n",
              "      border-color: transparent;\n",
              "      border-bottom-color: var(--fill-color);\n",
              "      border-left-color: var(--fill-color);\n",
              "    }\n",
              "    20% {\n",
              "      border-color: transparent;\n",
              "      border-left-color: var(--fill-color);\n",
              "      border-top-color: var(--fill-color);\n",
              "    }\n",
              "    30% {\n",
              "      border-color: transparent;\n",
              "      border-left-color: var(--fill-color);\n",
              "      border-top-color: var(--fill-color);\n",
              "      border-right-color: var(--fill-color);\n",
              "    }\n",
              "    40% {\n",
              "      border-color: transparent;\n",
              "      border-right-color: var(--fill-color);\n",
              "      border-top-color: var(--fill-color);\n",
              "    }\n",
              "    60% {\n",
              "      border-color: transparent;\n",
              "      border-right-color: var(--fill-color);\n",
              "    }\n",
              "    80% {\n",
              "      border-color: transparent;\n",
              "      border-right-color: var(--fill-color);\n",
              "      border-bottom-color: var(--fill-color);\n",
              "    }\n",
              "    90% {\n",
              "      border-color: transparent;\n",
              "      border-bottom-color: var(--fill-color);\n",
              "    }\n",
              "  }\n",
              "</style>\n",
              "\n",
              "  <script>\n",
              "    async function quickchart(key) {\n",
              "      const quickchartButtonEl =\n",
              "        document.querySelector('#' + key + ' button');\n",
              "      quickchartButtonEl.disabled = true;  // To prevent multiple clicks.\n",
              "      quickchartButtonEl.classList.add('colab-df-spinner');\n",
              "      try {\n",
              "        const charts = await google.colab.kernel.invokeFunction(\n",
              "            'suggestCharts', [key], {});\n",
              "      } catch (error) {\n",
              "        console.error('Error during call to suggestCharts:', error);\n",
              "      }\n",
              "      quickchartButtonEl.classList.remove('colab-df-spinner');\n",
              "      quickchartButtonEl.classList.add('colab-df-quickchart-complete');\n",
              "    }\n",
              "    (() => {\n",
              "      let quickchartButtonEl =\n",
              "        document.querySelector('#df-69ef60b6-a581-4fb8-8c17-49372c2c3cf9 button');\n",
              "      quickchartButtonEl.style.display =\n",
              "        google.colab.kernel.accessAllowed ? 'block' : 'none';\n",
              "    })();\n",
              "  </script>\n",
              "</div>\n",
              "    </div>\n",
              "  </div>\n"
            ]
          },
          "metadata": {},
          "execution_count": 3
        }
      ]
    },
    {
      "cell_type": "markdown",
      "metadata": {
        "id": "p8feaZbJAqJH"
      },
      "source": [
        "Regression model for the ith individual\n",
        "\n",
        "$$y_i = b_0 + b_1x_i + \\epsilon_i$$\n",
        "\n",
        "For the first individual in the longbones, dataset,\n",
        "\n",
        "$$y_1 = b_0 + b_1x_1 +\\epsilon_1$$\n",
        "\n",
        "$$71.8 = b_0 + b_1(3.88) + \\epsilon_1$$\n",
        "\n",
        "$\\qquad$\n",
        "\n",
        "For the second individual...\n",
        "\n",
        "$$70.6 = b_0 + b_1(3.53) + \\epsilon_2$$"
      ]
    },
    {
      "cell_type": "markdown",
      "metadata": {
        "id": "N4h5H3koDpAY"
      },
      "source": [
        "To simplify the notation, we can put all the x-values into a matrix we call X and all the y-values into a matrix we call Y."
      ]
    },
    {
      "cell_type": "markdown",
      "metadata": {
        "id": "8QdKvY49D4kE"
      },
      "source": [
        "\\begin{align}\n",
        "  Y =\n",
        "\\begin{bmatrix}\n",
        "  71.8 \\\\\n",
        "  70.6 \\\\\n",
        "  68.0 \\\\\n",
        "  71.6 \\\\\n",
        "  70.2 \\\\\n",
        "  ...\n",
        "\\end{bmatrix}\n",
        "  \\qquad\n",
        "  X =\n",
        "  \\begin{bmatrix}\n",
        "  1 \\quad 3.88 \\\\\n",
        "  1 \\quad 3.53  \\\\\n",
        "  1 \\quad 3.93  \\\\\n",
        "  1 \\quad 3.88  \\\\\n",
        "  1 \\quad 3.64  \\\\\n",
        "  1 \\quad ...\n",
        "  \\end{bmatrix}\n",
        "\\end{align}"
      ]
    },
    {
      "cell_type": "markdown",
      "metadata": {
        "id": "6GrgUQOk0sTH"
      },
      "source": [
        "\n",
        "\n",
        "We can also put our regression coefficients and residuals in matrices:\n",
        "\n",
        "\\begin{align}\n",
        "  B =\n",
        "\\begin{bmatrix}\n",
        "  b_0 \\\\\n",
        "  b_1 \\\\\n",
        "\\end{bmatrix}\n",
        "  \\qquad\n",
        "  \\epsilon =\n",
        "  \\begin{bmatrix}\n",
        "  \\epsilon_1 \\\\\n",
        "  \\epsilon_2  \\\\\n",
        "  \\epsilon_3  \\\\\n",
        "  \\epsilon_4  \\\\\n",
        "  \\epsilon_5  \\\\\n",
        "  ...\n",
        "  \\end{bmatrix}\n",
        "\\end{align}\n",
        "\n"
      ]
    },
    {
      "cell_type": "markdown",
      "metadata": {
        "id": "M3wnOtutIMoa"
      },
      "source": [
        "The regression model in matrix form is:\n",
        "\n",
        "$$Y = XB + E$$\n"
      ]
    },
    {
      "cell_type": "markdown",
      "metadata": {
        "id": "ryYF1XsOJl4a"
      },
      "source": [
        "\\begin{align}\n",
        "\\begin{bmatrix}\n",
        "  71.8 \\\\\n",
        "  70.6 \\\\\n",
        "  68.0 \\\\\n",
        "  71.6 \\\\\n",
        "  70.2 \\\\\n",
        "  ...\n",
        "\\end{bmatrix}\n",
        "   =\n",
        "   \\begin{bmatrix}\n",
        "  1 \\quad 3.88 \\\\\n",
        "  1 \\quad 3.53  \\\\\n",
        "  1 \\quad 3.93  \\\\\n",
        "  1 \\quad 3.88  \\\\\n",
        "  1 \\quad 3.64  \\\\\n",
        "  1 \\quad ...\n",
        "\\end{bmatrix}\n",
        "\\begin{bmatrix}\n",
        "  b_0 \\\\\n",
        "  b_1 \\\\\n",
        "\\end{bmatrix}\n",
        "  +\n",
        "\\begin{bmatrix}\n",
        "  \\epsilon_1 \\\\\n",
        "  \\epsilon_2  \\\\\n",
        "  \\epsilon_3  \\\\\n",
        "  \\epsilon_4  \\\\\n",
        "  \\epsilon_5  \\\\\n",
        "  ...\n",
        "\\end{bmatrix}\n",
        "\\end{align}"
      ]
    },
    {
      "cell_type": "markdown",
      "metadata": {
        "id": "fH0mrztHNjzI"
      },
      "source": [
        "###Matrix addition works element-wise\n",
        "\n",
        "\\begin{align}\n",
        "\\begin{bmatrix}\n",
        "  2 \\\\\n",
        "  5 \\\\\n",
        "  9 \\\\\n",
        "  1 \\\\\n",
        "  6 \\\\\n",
        "\\end{bmatrix}\n",
        "+\n",
        "\\begin{bmatrix}\n",
        "  1 \\\\\n",
        "  3 \\\\\n",
        "  11 \\\\\n",
        "  2 \\\\\n",
        "  0 \\\\\n",
        "\\end{bmatrix}\n",
        "   =\n",
        "   \\begin{bmatrix}\n",
        "  3 \\\\\n",
        "  8  \\\\\n",
        "  20  \\\\\n",
        "  3 \\\\\n",
        "  6 \\\\\n",
        "\\end{bmatrix}\n",
        "\\end{align}"
      ]
    },
    {
      "cell_type": "markdown",
      "metadata": {
        "id": "MYwxF4R8_Gnf"
      },
      "source": [
        "### Matrix Multiplication\n",
        "\n",
        "![1567_400x600.jpg](data:image/jpeg;base64,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)\n",
        "\n",
        "You can multiply any two matrices where the number of  columns of the first matrix is equal to the number of rows of the second matrix.\n",
        "\n",
        "The unused dimensions of the factor matrices tell you what the dimensions of the product matrix will be.\n",
        "\n",
        "![Matrix Multiplication Dimensions](https://encrypted-tbn0.gstatic.com/images?q=tbn:ANd9GcRunZv20HXxTMUgrkfdER06lPnMj0HpwDU_2i4IEHsBM5098440Jw)\n",
        "\n",
        "There is no commutative property of matrix multiplication (you can't switch the order of the matrices and always get the same result).\n",
        "\n",
        "Matrix multiplication is best understood in terms of the **dot product**.\n",
        "\n",
        "\\begin{align} \\vec{a} \\cdot \\vec{b} = (a_{1} \\times b_{1}) + (a_{2} \\times b_{2}) + \\ldots + ( a_{n} \\times b_{n}) \\end{align}\n",
        "\n",
        "To multiply to matrices together, we will take the dot product of each row of the first matrix with each column of the second matrix. The position of the resulting entries will correspond to the row number and column number of the row and column vector that were used to find that scalar. Lets look at an example to make this more clear.\n",
        "\n",
        "![Dot Product Matrix Multiplication](https://www.mathsisfun.com/algebra/images/matrix-multiply-a.svg)\n",
        "\n",
        "\\begin{align}\n",
        "\\begin{bmatrix}\n",
        "1 & 2 & 3 \\\\\n",
        "4 & 5 & 6\n",
        "\\end{bmatrix}\n",
        "\\times\n",
        "\\begin{bmatrix}\n",
        "7 & 8 \\\\\n",
        "9 & 10 \\\\\n",
        "11 & 12\n",
        "\\end{bmatrix}\n",
        "=\n",
        "\\begin{bmatrix}\n",
        "(1)(7)+(2)(9)+(3)(11) & (1)(8)+(2)(10)+(3)(12)\\\\\n",
        "(4)(7)+(5)(9)+(6)(11) & (4)(8)+(5)(10)+(6)(12)\n",
        "\\end{bmatrix}\n",
        "=\n",
        "\\begin{bmatrix}\n",
        "(7)+(18)+(33) & (8)+(20)+(36)\\\\\n",
        "(28)+(45)+(66) & (32)+(50)+(72)\n",
        "\\end{bmatrix}\n",
        "=\n",
        "\\begin{bmatrix}\n",
        "58 & 64\\\\\n",
        "139 & 154\n",
        "\\end{bmatrix}\n",
        "\\end{align}"
      ]
    },
    {
      "cell_type": "markdown",
      "metadata": {
        "id": "fWTYBd2uPxMM"
      },
      "source": [
        "$\\qquad$\n",
        "\n",
        "Returning to the Longbones example:\n",
        "\n",
        "$$X \\times B = XB$$\n",
        "$\\qquad$\n",
        "\n",
        "\\begin{align}\n",
        "   \\begin{bmatrix}\n",
        "  1 \\quad 3.88 \\\\\n",
        "  1 \\quad 3.53  \\\\\n",
        "  1 \\quad 3.93  \\\\\n",
        "  1 \\quad 3.88  \\\\\n",
        "  1 \\quad 3.64  \\\\\n",
        "  1 \\quad ...\n",
        "\\end{bmatrix}\n",
        "\\begin{bmatrix}\n",
        "  b_0 \\\\\n",
        "  b_1 \\\\\n",
        "\\end{bmatrix}\n",
        "  =\n",
        "\\begin{bmatrix}\n",
        "  b_0 + 3.88b_1 \\\\\n",
        "  b_0 + 3.53b_1  \\\\\n",
        "  b_0 + 3.93b_1 \\\\\n",
        "  b_0 + 3.88b_1  \\\\\n",
        "  b_0 + 3.64b_1  \\\\\n",
        "  ...\n",
        "\\end{bmatrix}\n",
        "\\end{align}"
      ]
    },
    {
      "cell_type": "markdown",
      "metadata": {
        "id": "mxbQLIS8Qtw2"
      },
      "source": [
        "$$Y = XB + \\epsilon$$\n",
        "\n",
        "$\\qquad$\n",
        "\\begin{align}\n",
        "\\begin{bmatrix}\n",
        "  71.8 \\\\\n",
        "  70.6 \\\\\n",
        "  68.0 \\\\\n",
        "  71.6 \\\\\n",
        "  70.2 \\\\\n",
        "  ...\n",
        "\\end{bmatrix}\n",
        "   =\n",
        "\\begin{bmatrix}\n",
        "  b_0 + 3.88b_1 \\\\\n",
        "  b_0 + 3.53b_1  \\\\\n",
        "  b_0 + 3.93b_1 \\\\\n",
        "  b_0 + 3.88b_1  \\\\\n",
        "  b_0 + 3.64b_1  \\\\\n",
        "  ...\n",
        "\\end{bmatrix}\n",
        "  +\n",
        "\\begin{bmatrix}\n",
        "  \\epsilon_1 \\\\\n",
        "  \\epsilon_2  \\\\\n",
        "  \\epsilon_3  \\\\\n",
        "  \\epsilon_4  \\\\\n",
        "  \\epsilon_5  \\\\\n",
        "  ...\n",
        "\\end{bmatrix}\n",
        "\\end{align}"
      ]
    },
    {
      "cell_type": "markdown",
      "metadata": {
        "id": "TltR1jtYRhbg"
      },
      "source": [
        "###Now we want to take the equation $Y = XB + \\epsilon$ and solve for B in such a way that minimizes the residuals ($\\epsilon$)\n",
        "\n",
        "\n",
        "This is more complicated than it sounds because\n",
        "\n",
        "1. The crazy rules of matrix multiplication.\n",
        "2. [You have to use calculus to \"minimize the residuals\" part](https://towardsdatascience.com/calculus-behind-linear-regression-1396cfd0b4a9)."
      ]
    },
    {
      "cell_type": "markdown",
      "metadata": {
        "id": "pU7Q7hbWSwHp"
      },
      "source": [
        "###The end result is that the equation used to solve for B is\n",
        "\n",
        "$$ B = (X^{'}X)^{-1}X^{'}Y$$"
      ]
    },
    {
      "cell_type": "markdown",
      "metadata": {
        "id": "aJt-S8zA_Lk9"
      },
      "source": [
        "## Transpose\n",
        "\n",
        "A transposed matrix is one whose rows are the columns of the original and whose columns are the rows of the original.\n",
        "\n",
        "Common notation for the transpose of a matrix is to have a capital $T$ superscript or a tick mark:\n",
        "\n",
        "\\begin{align}\n",
        "A^{T}\n",
        "\\qquad\n",
        "A^{\\prime}\n",
        "\\end{align}\n",
        "\n",
        "The first is read \"A transpose\" the second is sometimes read as \"B prime\" but can also be read as \"A transpose\".\n",
        "\n",
        "The transpose of any matrix can be found easily by fixing the elements on the main diagonal and flipping the placement of all other elements across that diagonal.\n",
        "\n",
        "![Matrix Transpose](http://xaktly.com/Images/Mathematics/MatrixAlgebra/MatrixOperations/MatrixTranspose.png)\n",
        "  \n",
        "\\begin{align}\n",
        "  C =\n",
        "\\begin{bmatrix}\n",
        "  1 & 2 & 3 \\\\\n",
        "  4 & 5 & 6\n",
        "\\end{bmatrix}\n",
        "  \\qquad\n",
        "  C^{'} =\n",
        "  \\begin{bmatrix}\n",
        "  1 & 4 \\\\\n",
        "  2 & 5 \\\\\n",
        "  3 & 6\n",
        "  \\end{bmatrix}\n",
        "\\end{align}"
      ]
    },
    {
      "cell_type": "markdown",
      "metadata": {
        "id": "8aGG5d4HSauH"
      },
      "source": [
        "## Inverse\n",
        "\n",
        "The inverse is like the reciprocal of the matrix that was used to generate it. Just like $\\frac{1}{8}$ is the reciprocal of 8, $A^{-1}$ acts like the reciprocal of $A$.  The equation for finding the inverse of a 2x2 matrix is as follows:\n",
        "\n",
        "\\begin{align}\n",
        "A = \\begin{bmatrix}\n",
        "a & b \\\\\n",
        "c & d\n",
        "\\end{bmatrix}\n",
        "\\qquad\n",
        "A^{-1} = \\frac{1}{ad-bc}\\begin{bmatrix}\n",
        "d & -b\\\\\n",
        "-c & a\n",
        "\\end{bmatrix}\n",
        "\\end{align}\n",
        "\n",
        "$\\qquad$\n",
        "\n",
        "When you multiply a matrix by its inverse, the result is what we call the identity matrix."
      ]
    },
    {
      "cell_type": "markdown",
      "metadata": {
        "id": "fSfLokfx_T4x"
      },
      "source": [
        "\n",
        "**Identity Matrix:** A diagonal matrix with ones on the main diagonal and zeroes everywhere else. The product of the any square matrix and the identity matrix is the original square matrix $CI == C$. Also, any matrix multiplied by its inverse will give the identity matrix as its product.  $CC^{-1} = I$\n",
        "\n",
        "\n",
        "From the example above:\n",
        "\n",
        "\\begin{align}\n",
        "AA^{-1} = A^{-1}A =\n",
        "\\begin{bmatrix}\n",
        "1 & 0 \\\\\n",
        "0 & 1\n",
        "\\end{bmatrix}\n",
        "\\end{align}\n",
        "\n",
        "\n"
      ]
    },
    {
      "cell_type": "markdown",
      "metadata": {
        "id": "46cJIv0YL7Jp"
      },
      "source": [
        "### Not all matrices are invertible\n",
        "\n",
        "Matrices that are not square are not invertible.\n",
        "\n",
        "There are some other factors that can make matrices not be invertable, but we won't get into those now."
      ]
    },
    {
      "cell_type": "markdown",
      "metadata": {
        "id": "RkP5HmQ2J0mU"
      },
      "source": [
        "#Objective - use linear algebra to solve for linear regression coefficients"
      ]
    },
    {
      "cell_type": "markdown",
      "metadata": {
        "id": "jOc313yxVWGx"
      },
      "source": [
        "#Let's create X and Y matrices with our longbones data and use them to solve for B:\n",
        "\n"
      ]
    },
    {
      "cell_type": "markdown",
      "metadata": {
        "id": "zkOCMhdNViSZ"
      },
      "source": [
        "\n",
        "\n",
        "$$ B = (X^{'}X)^{-1}X^{'}Y$$"
      ]
    },
    {
      "cell_type": "code",
      "source": [
        "Nitro = np.array(longbones['Nitro']).reshape(-1,1)\n",
        "Nitro"
      ],
      "metadata": {
        "colab": {
          "base_uri": "https://localhost:8080/"
        },
        "id": "Gb2HetNK3DZU",
        "outputId": "c6d1c025-1385-4af4-bd79-9b13ac00be9d"
      },
      "execution_count": null,
      "outputs": [
        {
          "output_type": "execute_result",
          "data": {
            "text/plain": [
              "array([[3.88],\n",
              "       [3.53],\n",
              "       [3.93],\n",
              "       [3.88],\n",
              "       [3.64],\n",
              "       [3.97],\n",
              "       [3.96],\n",
              "       [3.69],\n",
              "       [3.75],\n",
              "       [3.75],\n",
              "       [3.92],\n",
              "       [3.76],\n",
              "       [3.93],\n",
              "       [3.7 ],\n",
              "       [3.82],\n",
              "       [3.78],\n",
              "       [4.  ],\n",
              "       [3.92],\n",
              "       [3.79],\n",
              "       [3.49],\n",
              "       [3.57],\n",
              "       [3.43],\n",
              "       [3.27],\n",
              "       [3.66],\n",
              "       [3.9 ],\n",
              "       [3.91],\n",
              "       [3.73],\n",
              "       [3.72],\n",
              "       [3.85],\n",
              "       [3.85],\n",
              "       [4.06],\n",
              "       [4.04],\n",
              "       [4.  ],\n",
              "       [3.93],\n",
              "       [3.85]])"
            ]
          },
          "metadata": {},
          "execution_count": 4
        }
      ]
    },
    {
      "cell_type": "code",
      "source": [
        "Lime = np.array(longbones['Lime']).reshape(-1,1)\n",
        "Lime"
      ],
      "metadata": {
        "colab": {
          "base_uri": "https://localhost:8080/"
        },
        "id": "EVg6tPdr3Q7t",
        "outputId": "95c6bf2f-ac67-4b08-b015-3ee174cc6b0b"
      },
      "execution_count": null,
      "outputs": [
        {
          "output_type": "execute_result",
          "data": {
            "text/plain": [
              "array([[1],\n",
              "       [1],\n",
              "       [1],\n",
              "       [1],\n",
              "       [1],\n",
              "       [0],\n",
              "       [0],\n",
              "       [0],\n",
              "       [0],\n",
              "       [0],\n",
              "       [0],\n",
              "       [0],\n",
              "       [0],\n",
              "       [0],\n",
              "       [0],\n",
              "       [0],\n",
              "       [0],\n",
              "       [0],\n",
              "       [0],\n",
              "       [1],\n",
              "       [1],\n",
              "       [1],\n",
              "       [1],\n",
              "       [1],\n",
              "       [1],\n",
              "       [1],\n",
              "       [0],\n",
              "       [0],\n",
              "       [0],\n",
              "       [0],\n",
              "       [0],\n",
              "       [0],\n",
              "       [0],\n",
              "       [0],\n",
              "       [0]])"
            ]
          },
          "metadata": {},
          "execution_count": 5
        }
      ]
    },
    {
      "cell_type": "code",
      "metadata": {
        "id": "aLy8AuEfV4Nq",
        "colab": {
          "base_uri": "https://localhost:8080/"
        },
        "outputId": "f2ad51b7-b86e-4120-e42c-070c75384f0e"
      },
      "source": [
        "ones = np.repeat(1, len(longbones)).reshape(-1,1)\n",
        "ones\n"
      ],
      "execution_count": null,
      "outputs": [
        {
          "output_type": "execute_result",
          "data": {
            "text/plain": [
              "array([[1],\n",
              "       [1],\n",
              "       [1],\n",
              "       [1],\n",
              "       [1],\n",
              "       [1],\n",
              "       [1],\n",
              "       [1],\n",
              "       [1],\n",
              "       [1],\n",
              "       [1],\n",
              "       [1],\n",
              "       [1],\n",
              "       [1],\n",
              "       [1],\n",
              "       [1],\n",
              "       [1],\n",
              "       [1],\n",
              "       [1],\n",
              "       [1],\n",
              "       [1],\n",
              "       [1],\n",
              "       [1],\n",
              "       [1],\n",
              "       [1],\n",
              "       [1],\n",
              "       [1],\n",
              "       [1],\n",
              "       [1],\n",
              "       [1],\n",
              "       [1],\n",
              "       [1],\n",
              "       [1],\n",
              "       [1],\n",
              "       [1]])"
            ]
          },
          "metadata": {},
          "execution_count": 6
        }
      ]
    },
    {
      "cell_type": "code",
      "source": [
        "X = np.concatenate((ones, Nitro, Lime), axis =1 )\n",
        "\n",
        "X"
      ],
      "metadata": {
        "colab": {
          "base_uri": "https://localhost:8080/"
        },
        "id": "7rQ66TiU3aM3",
        "outputId": "b7c6e7b6-f35a-4fbf-e370-c37b00a07ec7"
      },
      "execution_count": null,
      "outputs": [
        {
          "output_type": "execute_result",
          "data": {
            "text/plain": [
              "array([[1.  , 3.88, 1.  ],\n",
              "       [1.  , 3.53, 1.  ],\n",
              "       [1.  , 3.93, 1.  ],\n",
              "       [1.  , 3.88, 1.  ],\n",
              "       [1.  , 3.64, 1.  ],\n",
              "       [1.  , 3.97, 0.  ],\n",
              "       [1.  , 3.96, 0.  ],\n",
              "       [1.  , 3.69, 0.  ],\n",
              "       [1.  , 3.75, 0.  ],\n",
              "       [1.  , 3.75, 0.  ],\n",
              "       [1.  , 3.92, 0.  ],\n",
              "       [1.  , 3.76, 0.  ],\n",
              "       [1.  , 3.93, 0.  ],\n",
              "       [1.  , 3.7 , 0.  ],\n",
              "       [1.  , 3.82, 0.  ],\n",
              "       [1.  , 3.78, 0.  ],\n",
              "       [1.  , 4.  , 0.  ],\n",
              "       [1.  , 3.92, 0.  ],\n",
              "       [1.  , 3.79, 0.  ],\n",
              "       [1.  , 3.49, 1.  ],\n",
              "       [1.  , 3.57, 1.  ],\n",
              "       [1.  , 3.43, 1.  ],\n",
              "       [1.  , 3.27, 1.  ],\n",
              "       [1.  , 3.66, 1.  ],\n",
              "       [1.  , 3.9 , 1.  ],\n",
              "       [1.  , 3.91, 1.  ],\n",
              "       [1.  , 3.73, 0.  ],\n",
              "       [1.  , 3.72, 0.  ],\n",
              "       [1.  , 3.85, 0.  ],\n",
              "       [1.  , 3.85, 0.  ],\n",
              "       [1.  , 4.06, 0.  ],\n",
              "       [1.  , 4.04, 0.  ],\n",
              "       [1.  , 4.  , 0.  ],\n",
              "       [1.  , 3.93, 0.  ],\n",
              "       [1.  , 3.85, 0.  ]])"
            ]
          },
          "metadata": {},
          "execution_count": 7
        }
      ]
    },
    {
      "cell_type": "code",
      "source": [
        "Y= np.array(longbones['Time']).reshape(-1,1)\n",
        "Y"
      ],
      "metadata": {
        "id": "nyXlSvna3fH4",
        "outputId": "9c3f62d9-a04f-42e0-81f2-596593b6ab86",
        "colab": {
          "base_uri": "https://localhost:8080/"
        }
      },
      "execution_count": null,
      "outputs": [
        {
          "output_type": "execute_result",
          "data": {
            "text/plain": [
              "array([[71.8],\n",
              "       [70.6],\n",
              "       [68. ],\n",
              "       [71.6],\n",
              "       [70.2],\n",
              "       [55.5],\n",
              "       [36.3],\n",
              "       [46.5],\n",
              "       [45.5],\n",
              "       [43. ],\n",
              "       [44.9],\n",
              "       [59.5],\n",
              "       [58.3],\n",
              "       [56.5],\n",
              "       [56.3],\n",
              "       [43. ],\n",
              "       [42.5],\n",
              "       [29. ],\n",
              "       [35.3],\n",
              "       [93.6],\n",
              "       [90. ],\n",
              "       [88. ],\n",
              "       [79.7],\n",
              "       [67.4],\n",
              "       [64.7],\n",
              "       [64.7],\n",
              "       [38.3],\n",
              "       [59.6],\n",
              "       [32. ],\n",
              "       [32.2],\n",
              "       [26.5],\n",
              "       [34.7],\n",
              "       [27.6],\n",
              "       [35.7],\n",
              "       [49.6]])"
            ]
          },
          "metadata": {},
          "execution_count": 8
        }
      ]
    },
    {
      "cell_type": "code",
      "metadata": {
        "id": "UVhixZZZQfUw",
        "colab": {
          "base_uri": "https://localhost:8080/"
        },
        "outputId": "f36d3c5a-d275-4329-9835-e8e129e9a734"
      },
      "source": [
        "#B=(X′X)−1X′Y\n",
        "\n",
        "# calculate the transpose (X')\n",
        "X_T = np.transpose(X)\n",
        "X_T"
      ],
      "execution_count": 10,
      "outputs": [
        {
          "output_type": "execute_result",
          "data": {
            "text/plain": [
              "array([[1.  , 1.  , 1.  , 1.  , 1.  , 1.  , 1.  , 1.  , 1.  , 1.  , 1.  ,\n",
              "        1.  , 1.  , 1.  , 1.  , 1.  , 1.  , 1.  , 1.  , 1.  , 1.  , 1.  ,\n",
              "        1.  , 1.  , 1.  , 1.  , 1.  , 1.  , 1.  , 1.  , 1.  , 1.  , 1.  ,\n",
              "        1.  , 1.  ],\n",
              "       [3.88, 3.53, 3.93, 3.88, 3.64, 3.97, 3.96, 3.69, 3.75, 3.75, 3.92,\n",
              "        3.76, 3.93, 3.7 , 3.82, 3.78, 4.  , 3.92, 3.79, 3.49, 3.57, 3.43,\n",
              "        3.27, 3.66, 3.9 , 3.91, 3.73, 3.72, 3.85, 3.85, 4.06, 4.04, 4.  ,\n",
              "        3.93, 3.85],\n",
              "       [1.  , 1.  , 1.  , 1.  , 1.  , 0.  , 0.  , 0.  , 0.  , 0.  , 0.  ,\n",
              "        0.  , 0.  , 0.  , 0.  , 0.  , 0.  , 0.  , 0.  , 1.  , 1.  , 1.  ,\n",
              "        1.  , 1.  , 1.  , 1.  , 0.  , 0.  , 0.  , 0.  , 0.  , 0.  , 0.  ,\n",
              "        0.  , 0.  ]])"
            ]
          },
          "metadata": {},
          "execution_count": 10
        }
      ]
    },
    {
      "cell_type": "code",
      "source": [
        "#second way to calculate the transpose (X')\n",
        "X.T"
      ],
      "metadata": {
        "colab": {
          "base_uri": "https://localhost:8080/"
        },
        "id": "E5ZuyVYXEKh7",
        "outputId": "a1281eba-88e4-483b-e34f-7c0dae580133"
      },
      "execution_count": 13,
      "outputs": [
        {
          "output_type": "execute_result",
          "data": {
            "text/plain": [
              "array([[1.  , 1.  , 1.  , 1.  , 1.  , 1.  , 1.  , 1.  , 1.  , 1.  , 1.  ,\n",
              "        1.  , 1.  , 1.  , 1.  , 1.  , 1.  , 1.  , 1.  , 1.  , 1.  , 1.  ,\n",
              "        1.  , 1.  , 1.  , 1.  , 1.  , 1.  , 1.  , 1.  , 1.  , 1.  , 1.  ,\n",
              "        1.  , 1.  ],\n",
              "       [3.88, 3.53, 3.93, 3.88, 3.64, 3.97, 3.96, 3.69, 3.75, 3.75, 3.92,\n",
              "        3.76, 3.93, 3.7 , 3.82, 3.78, 4.  , 3.92, 3.79, 3.49, 3.57, 3.43,\n",
              "        3.27, 3.66, 3.9 , 3.91, 3.73, 3.72, 3.85, 3.85, 4.06, 4.04, 4.  ,\n",
              "        3.93, 3.85],\n",
              "       [1.  , 1.  , 1.  , 1.  , 1.  , 0.  , 0.  , 0.  , 0.  , 0.  , 0.  ,\n",
              "        0.  , 0.  , 0.  , 0.  , 0.  , 0.  , 0.  , 0.  , 1.  , 1.  , 1.  ,\n",
              "        1.  , 1.  , 1.  , 1.  , 0.  , 0.  , 0.  , 0.  , 0.  , 0.  , 0.  ,\n",
              "        0.  , 0.  ]])"
            ]
          },
          "metadata": {},
          "execution_count": 13
        }
      ]
    },
    {
      "cell_type": "code",
      "source": [
        "#create X'X\n",
        "\n",
        "X_T_X = np.matmul(X_T, X)\n",
        "X_T_X"
      ],
      "metadata": {
        "colab": {
          "base_uri": "https://localhost:8080/"
        },
        "id": "p4_s1Qno0mGS",
        "outputId": "66f895d0-d3d6-40ec-8e7c-3b5af1ab4a2f"
      },
      "execution_count": 11,
      "outputs": [
        {
          "output_type": "execute_result",
          "data": {
            "text/plain": [
              "array([[ 35.    , 132.86  ,  12.    ],\n",
              "       [132.86  , 505.4434,  44.09  ],\n",
              "       [ 12.    ,  44.09  ,  12.    ]])"
            ]
          },
          "metadata": {},
          "execution_count": 11
        }
      ]
    },
    {
      "cell_type": "code",
      "source": [
        "#second way to create X'X\n",
        "X_T.dot(X)"
      ],
      "metadata": {
        "colab": {
          "base_uri": "https://localhost:8080/"
        },
        "id": "9EBLG0HdFFVg",
        "outputId": "8b407c4e-de6b-4dad-fff5-c12034810783"
      },
      "execution_count": 14,
      "outputs": [
        {
          "output_type": "execute_result",
          "data": {
            "text/plain": [
              "array([[ 35.    , 132.86  ,  12.    ],\n",
              "       [132.86  , 505.4434,  44.09  ],\n",
              "       [ 12.    ,  44.09  ,  12.    ]])"
            ]
          },
          "metadata": {},
          "execution_count": 14
        }
      ]
    },
    {
      "cell_type": "code",
      "metadata": {
        "id": "m_Dd1ZbU335I",
        "colab": {
          "base_uri": "https://localhost:8080/"
        },
        "outputId": "38e499b9-44c5-4fab-a1e3-bff1f09cfb80"
      },
      "source": [
        "#now lets calc the inverse\n",
        "# this is the first part of the equation B=(X′X)\n",
        "X_T_X_inv = np.linalg.inv(X_T_X)\n",
        "X_T_X_inv"
      ],
      "execution_count": 20,
      "outputs": [
        {
          "output_type": "execute_result",
          "data": {
            "text/plain": [
              "array([[17.86648578, -4.61787961, -0.89962645],\n",
              "       [-4.61787961,  1.19647664,  0.22182503],\n",
              "       [-0.89962645,  0.22182503,  0.16793763]])"
            ]
          },
          "metadata": {},
          "execution_count": 20
        }
      ]
    },
    {
      "cell_type": "code",
      "metadata": {
        "id": "WxOrKY9F391Z",
        "colab": {
          "base_uri": "https://localhost:8080/"
        },
        "outputId": "d7f636d5-1562-4261-cd21-0c0b9d347720"
      },
      "source": [
        "#X′Y\n",
        "#second part of the equation B=(X′X)−1X′Y\n",
        "X_T_Y = np.matmul(X_T,Y)\n",
        "X_T_Y"
      ],
      "execution_count": 19,
      "outputs": [
        {
          "output_type": "execute_result",
          "data": {
            "text/plain": [
              "array([[1888.6  ],\n",
              "       [7092.485],\n",
              "       [ 900.3  ]])"
            ]
          },
          "metadata": {},
          "execution_count": 19
        }
      ]
    },
    {
      "cell_type": "code",
      "source": [
        "#second way X′Y\n",
        "X_T.dot(Y)"
      ],
      "metadata": {
        "colab": {
          "base_uri": "https://localhost:8080/"
        },
        "id": "5-iZbALrGqFW",
        "outputId": "7ad92a9c-ada8-4e08-8012-62489933180f"
      },
      "execution_count": 18,
      "outputs": [
        {
          "output_type": "execute_result",
          "data": {
            "text/plain": [
              "array([[1888.6  ],\n",
              "       [7092.485],\n",
              "       [ 900.3  ]])"
            ]
          },
          "metadata": {},
          "execution_count": 18
        }
      ]
    },
    {
      "cell_type": "code",
      "metadata": {
        "id": "IzDRPF924FNk",
        "colab": {
          "base_uri": "https://localhost:8080/"
        },
        "outputId": "49338efc-bfdf-42a3-d272-e612c1cbb201"
      },
      "source": [
        "B = np.matmul(X_T_X_inv,X_T_Y)\n",
        "B"
      ],
      "execution_count": null,
      "outputs": [
        {
          "output_type": "execute_result",
          "data": {
            "text/plain": [
              "array([[180.4694905 ],\n",
              "       [-35.62575511],\n",
              "       [ 25.45047142]])"
            ]
          },
          "metadata": {},
          "execution_count": 7
        }
      ]
    },
    {
      "cell_type": "code",
      "metadata": {
        "id": "ataF2sSMagfm"
      },
      "source": [],
      "execution_count": null,
      "outputs": []
    },
    {
      "cell_type": "code",
      "metadata": {
        "id": "cAz2v2l27XQC"
      },
      "source": [],
      "execution_count": null,
      "outputs": []
    },
    {
      "cell_type": "markdown",
      "metadata": {
        "id": "59wg1nvaiJeX"
      },
      "source": [
        "###We get the same answer!!!"
      ]
    },
    {
      "cell_type": "markdown",
      "metadata": {
        "id": "awzVAjtuiT7o"
      },
      "source": [
        "#What happens if we have more than one X variable?"
      ]
    },
    {
      "cell_type": "code",
      "metadata": {
        "id": "Du08y19oi3H3"
      },
      "source": [],
      "execution_count": null,
      "outputs": []
    },
    {
      "cell_type": "markdown",
      "metadata": {
        "id": "T0UsT02ti6BW"
      },
      "source": [
        "Now we want to include both nitrogen composition and Quicklime application in our model."
      ]
    },
    {
      "cell_type": "markdown",
      "metadata": {
        "id": "SEjNKXmSjUK7"
      },
      "source": [
        "$\\qquad$\n",
        "\n",
        "Now we have\n",
        "\n",
        "$$X \\times B = XB$$\n",
        "$\\qquad$\n",
        "\n",
        "\\begin{align}\n",
        "   \\begin{bmatrix}\n",
        "  1 \\quad 3.88 \\quad 1 \\\\\n",
        "  1 \\quad 3.53 \\quad 1  \\\\\n",
        "  1 \\quad 3.93 \\quad 1 \\\\\n",
        "  1 \\quad 3.88 \\quad 1 \\\\\n",
        "  1 \\quad 3.64 \\quad 1 \\\\\n",
        "  1 \\quad ... \\ ...\n",
        "\\end{bmatrix}\n",
        "\\begin{bmatrix}\n",
        "  b_0 \\\\\n",
        "  b_1 \\\\\n",
        "  b_2\n",
        "\\end{bmatrix}\n",
        "  =\n",
        "\\begin{bmatrix}\n",
        "  b_0 + 3.88b_1 + 1b_2\\\\\n",
        "  b_0 + 3.53b_1 + 1b_2 \\\\\n",
        "  b_0 + 3.93b_1 + 1b_2\\\\\n",
        "  b_0 + 3.88b_1 + 1b_2 \\\\\n",
        "  b_0 + 3.64b_1 + 1b_2 \\\\\n",
        "  b_0 + ... + ...\n",
        "  ...\n",
        "\\end{bmatrix}\n",
        "\\end{align}"
      ]
    },
    {
      "cell_type": "code",
      "metadata": {
        "id": "p5k_g4HBkPvv"
      },
      "source": [
        "\n"
      ],
      "execution_count": null,
      "outputs": []
    },
    {
      "cell_type": "code",
      "metadata": {
        "id": "wffPKuJVkrCB"
      },
      "source": [],
      "execution_count": null,
      "outputs": []
    },
    {
      "cell_type": "code",
      "metadata": {
        "id": "5urdsQb8kwkA"
      },
      "source": [],
      "execution_count": null,
      "outputs": []
    },
    {
      "cell_type": "code",
      "metadata": {
        "id": "HwFpT8UVkzuh"
      },
      "source": [],
      "execution_count": null,
      "outputs": []
    },
    {
      "cell_type": "code",
      "metadata": {
        "id": "eowLI3Qdk9u6"
      },
      "source": [],
      "execution_count": null,
      "outputs": []
    },
    {
      "cell_type": "code",
      "metadata": {
        "id": "1k7mU2R-lGeL"
      },
      "source": [],
      "execution_count": null,
      "outputs": []
    },
    {
      "cell_type": "markdown",
      "metadata": {
        "id": "klqll5X1lJ7T"
      },
      "source": [
        "###Pretty cool!"
      ]
    },
    {
      "cell_type": "markdown",
      "metadata": {
        "id": "E7xPSoQfJtVi"
      },
      "source": [
        "#Objective - explain cosine similarity and compute the similarity between two vectors"
      ]
    },
    {
      "cell_type": "markdown",
      "metadata": {
        "id": "PVN7eDxLnAhN"
      },
      "source": [
        "#All You Need is Cosine Similarity"
      ]
    },
    {
      "cell_type": "markdown",
      "metadata": {
        "id": "249THg5iYSMz"
      },
      "source": [
        "We just talked about how to use linear regression to identify the relationship between two quantitative variables.  \n",
        "\n",
        "Cosine similarity is another way we could quantify the relationship between two variables."
      ]
    },
    {
      "cell_type": "markdown",
      "metadata": {
        "id": "DwPKXSqjrtYW"
      },
      "source": [
        "Recall that a vector is a quantity with both magnitude and direction.  We can graph a 2D vector with an arrow."
      ]
    },
    {
      "cell_type": "code",
      "metadata": {
        "id": "to1XKDp-swJq",
        "colab": {
          "base_uri": "https://localhost:8080/",
          "height": 452
        },
        "outputId": "6f847274-349d-425a-c24b-0362e46647da"
      },
      "source": [
        "import matplotlib.pyplot as plt\n",
        "\n",
        "# Create the vector\n",
        "vector = [3, 4]\n",
        "\n",
        "plt.arrow(0, 0, vector[0], vector[1], width=.05)\n",
        "plt.xlim(-1, 4); plt.ylim(-1, 5)"
      ],
      "execution_count": null,
      "outputs": [
        {
          "output_type": "execute_result",
          "data": {
            "text/plain": [
              "(-1.0, 5.0)"
            ]
          },
          "metadata": {},
          "execution_count": 11
        },
        {
          "output_type": "display_data",
          "data": {
            "text/plain": [
              "<Figure size 640x480 with 1 Axes>"
            ],
            "image/png": "[encoded data removed]"
          },
          "metadata": {}
        }
      ]
    },
    {
      "cell_type": "markdown",
      "metadata": {
        "id": "RHv6DpMfsyec"
      },
      "source": [
        "What if we had two 2D vectors?  "
      ]
    },
    {
      "cell_type": "code",
      "metadata": {
        "id": "HuwZ8ttFs99d",
        "colab": {
          "base_uri": "https://localhost:8080/",
          "height": 452
        },
        "outputId": "dd6d52b9-cca0-4a4a-ef21-34d72f841a05"
      },
      "source": [
        "import matplotlib.pyplot as plt\n",
        "\n",
        "# Create the vector\n",
        "vector1 = [3, 4]\n",
        "vector2 = [3, 0]\n",
        "\n",
        "plt.arrow(0, 0, vector1[0], vector1[1], width=.05, color = 'green')\n",
        "plt.arrow(0, 0, vector2[0], vector2[1], width=.05, color = 'blue')\n",
        "plt.xlim(-1, 4); plt.ylim(-1, 5)"
      ],
      "execution_count": null,
      "outputs": [
        {
          "output_type": "execute_result",
          "data": {
            "text/plain": [
              "(-1.0, 5.0)"
            ]
          },
          "metadata": {},
          "execution_count": 12
        },
        {
          "output_type": "display_data",
          "data": {
            "text/plain": [
              "<Figure size 640x480 with 1 Axes>"
            ],
            "image/png": "[encoded data removed]"
          },
          "metadata": {}
        }
      ]
    },
    {
      "cell_type": "markdown",
      "metadata": {
        "id": "BJacL-NVtSbf"
      },
      "source": [
        "How could we measure how \"similar\" these vectors are?\n",
        "\n",
        "Intuitively, we would say that two vectors that line up perfectly are \"the same\"."
      ]
    },
    {
      "cell_type": "code",
      "metadata": {
        "id": "v4GOpufkt9NG",
        "colab": {
          "base_uri": "https://localhost:8080/",
          "height": 452
        },
        "outputId": "1028b898-732d-4c95-efcc-0e6e2a2603c0"
      },
      "source": [
        "import matplotlib.pyplot as plt\n",
        "\n",
        "# Create the vector\n",
        "vector1 = [3, 4]\n",
        "vector2 = [3, 4]\n",
        "\n",
        "plt.arrow(0, 0, vector1[0], vector1[1], width=.05, color = 'green')\n",
        "plt.arrow(0, 0, vector2[0], vector2[1], width=.05, color = 'blue')\n",
        "plt.xlim(-1, 4); plt.ylim(-1, 5)"
      ],
      "execution_count": null,
      "outputs": [
        {
          "output_type": "execute_result",
          "data": {
            "text/plain": [
              "(-1.0, 5.0)"
            ]
          },
          "metadata": {},
          "execution_count": 13
        },
        {
          "output_type": "display_data",
          "data": {
            "text/plain": [
              "<Figure size 640x480 with 1 Axes>"
            ],
            "image/png": "[encoded data removed]"
          },
          "metadata": {}
        }
      ]
    },
    {
      "cell_type": "markdown",
      "metadata": {
        "id": "KJMxyZN9uC9x"
      },
      "source": [
        "Two vectors that are going in perpendicular directions are orthogonal to each other."
      ]
    },
    {
      "cell_type": "code",
      "metadata": {
        "id": "qsB-WwcHuS-I",
        "colab": {
          "base_uri": "https://localhost:8080/",
          "height": 452
        },
        "outputId": "bbf2e60e-7861-4679-f28c-30b27f4c94f0"
      },
      "source": [
        "import matplotlib.pyplot as plt\n",
        "\n",
        "# Create the vector\n",
        "vector1 = [-3, 4]\n",
        "vector2 = [3, 4]\n",
        "\n",
        "plt.arrow(0, 0, vector1[0], vector1[1], width=.05, color = 'green')\n",
        "plt.arrow(0, 0, vector2[0], vector2[1], width=.05, color = 'blue')\n",
        "plt.xlim(-4, 4); plt.ylim(-1, 5)"
      ],
      "execution_count": null,
      "outputs": [
        {
          "output_type": "execute_result",
          "data": {
            "text/plain": [
              "(-1.0, 5.0)"
            ]
          },
          "metadata": {},
          "execution_count": 14
        },
        {
          "output_type": "display_data",
          "data": {
            "text/plain": [
              "<Figure size 640x480 with 1 Axes>"
            ],
            "image/png": "[encoded data removed]"
          },
          "metadata": {}
        }
      ]
    },
    {
      "cell_type": "markdown",
      "metadata": {
        "id": "xjuxEoyZXtfP"
      },
      "source": [
        "And two vectors that are going in opposite directions are opposites of each other."
      ]
    },
    {
      "cell_type": "code",
      "metadata": {
        "id": "ZUSGHY5YX1Hi",
        "colab": {
          "base_uri": "https://localhost:8080/",
          "height": 447
        },
        "outputId": "6969f426-f474-4d7b-b8d5-6583c18202ab"
      },
      "source": [
        "import matplotlib.pyplot as plt\n",
        "\n",
        "# Create the vector\n",
        "vector1 = [-3, -4]\n",
        "vector2 = [3, 4]\n",
        "\n",
        "plt.arrow(0, 0, vector1[0], vector1[1], width=.05, color = 'green')\n",
        "plt.arrow(0, 0, vector2[0], vector2[1], width=.05, color = 'blue')\n",
        "plt.xlim(-4, 4); plt.ylim(-5, 5)"
      ],
      "execution_count": null,
      "outputs": [
        {
          "output_type": "execute_result",
          "data": {
            "text/plain": [
              "(-5.0, 5.0)"
            ]
          },
          "metadata": {},
          "execution_count": 15
        },
        {
          "output_type": "display_data",
          "data": {
            "text/plain": [
              "<Figure size 640x480 with 1 Axes>"
            ],
            "image/png": "[encoded data removed]"
          },
          "metadata": {}
        }
      ]
    },
    {
      "cell_type": "markdown",
      "metadata": {
        "id": "IlkCnzuUub9w"
      },
      "source": [
        "One way we could measure how similar these vectors are is by looking at the degree of the angle between them.  \n",
        "\n",
        "If vectors are exactly the same, there is no angle between them (angle = 0 degrees)\n",
        "\n",
        "If vectors are perpendicular, there is a 90 degree angle betwen them.\n"
      ]
    },
    {
      "cell_type": "markdown",
      "metadata": {
        "id": "XEnpqkcDzVNT"
      },
      "source": [
        "How do we determine the degree of the angle between the two vectors?\n",
        "\n",
        "Calculate the cosine!"
      ]
    },
    {
      "cell_type": "markdown",
      "metadata": {
        "id": "ReUOPNDhz0Y-"
      },
      "source": [
        "![ratbig.gif](data:image/gif;base64,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)"
      ]
    },
    {
      "cell_type": "markdown",
      "metadata": {
        "id": "CGFtq9LWTYU-"
      },
      "source": [
        "Think about one of our vectors as the adjacent side of a triangle and one as the hypotenuse.  The cosine of the angle measures the relationship of the hypotenuse and the adjacent side.  \n",
        "\n",
        "$$\\cos(\\theta) = \\frac{adj}{hyp}$$"
      ]
    },
    {
      "cell_type": "markdown",
      "metadata": {
        "id": "7kl8Bq21V7WP"
      },
      "source": [
        "When the two vectors are exactly the same $\\theta=0$ and $\\cos\\theta=1$\n",
        "\n",
        "When the two vectors are perpendicular to each other $\\theta=90$ and $\\cos\\theta=0$\n"
      ]
    },
    {
      "cell_type": "markdown",
      "metadata": {
        "id": "Z50x_JOCXPwy"
      },
      "source": [
        "Therefore, cosine similarity measures the relationship between two vectors on a scale of 0 to 1."
      ]
    },
    {
      "cell_type": "markdown",
      "metadata": {
        "id": "81hcm9kEYt2l"
      },
      "source": [
        "Because we're often dealing with multi-dimensional vectors, we need a more general formula to determine the cosine of the angle between the vectors."
      ]
    },
    {
      "cell_type": "markdown",
      "metadata": {
        "id": "2zX7_KztkYT3"
      },
      "source": [
        "The cosine of two non-zero vectors can be derived by using the Euclidean dot product formula:\n",
        "\n",
        "$$\\mathbf {A} \\cdot \\mathbf {B} =\\left\\|\\mathbf {A} \\right\\|\\left\\|\\mathbf {B} \\right\\|\\cos \\theta$$\n",
        "\n",
        "Solving for $\\cos\\theta$ we get\n",
        "\n",
        "$$\\cos \\theta= \\frac{\\mathbf {A} \\cdot \\mathbf {B} }{\\left\\|\\mathbf {A} \\right\\|\\left\\|\\mathbf {B} \\right\\|}$$\n",
        "\n",
        "$\\qquad$\n",
        "\n",
        "The numerator is the dot product of the vectors $\\mathbf {A}$ and $\\mathbf {B}$\n",
        "\n",
        "The denominator is the norm of $\\mathbf {A}$ times the norm of $\\mathbf {B}$\n"
      ]
    },
    {
      "cell_type": "markdown",
      "metadata": {
        "id": "J10sSUChlzRH"
      },
      "source": [
        "###Let's look at an example"
      ]
    },
    {
      "cell_type": "markdown",
      "metadata": {
        "id": "9k2KIZbTl2kb"
      },
      "source": [
        "The song writing collaboration between John Lennon and Paul McCartney was one of the most productive in music history.  Unlike many other partnerships where one individual wrote lyrics and one wrote music, Lennon and McCartney composed both, and it was decided that any song that was written would be credited to both.  In the beginning of their relationship, many of their songs were collaborations.  However, later on, they often worked separately with little to no input from the other.    "
      ]
    },
    {
      "cell_type": "markdown",
      "metadata": {
        "id": "LsUaHKcEnhqc"
      },
      "source": [
        "Because of extensive reporting on the Beatles over the years, it is generally known if a Lennon-McCartney song was a true collaboration, primarily (or totally) written by Lennon, or primarily (or totally) written by McCartney.  \n",
        "\n",
        "However, there are several disputed songs where both Lennon and McCartney at times claimed to be the sole (or primary) composer.\n",
        "\n",
        "We will use cosine similarity to determine if *In My Life* (disputed) is most similar to *From Me to You* (collaboration, not disputed), *Strawberry Fields* (Lennon, not disputed) or *Penny Lane* (McCartney, not disputed)."
      ]
    },
    {
      "cell_type": "markdown",
      "metadata": {
        "id": "vyh_lahmogO7"
      },
      "source": [
        "Let's start by looking at the text of Strawberry Fields, which we know was written by John Lennon.  We can actually copy the lyrics to the entire song (removing punctuation and capitals from the first words of sentences) as a string and then convert that string into a data frame.\n",
        "\n",
        "---\n",
        "\n"
      ]
    },
    {
      "cell_type": "code",
      "metadata": {
        "id": "6SuKxo-lYsCR"
      },
      "source": [
        "import pandas as pd\n",
        "\n",
        "#Strawberry Fields - John Lennon (not disputed)\n",
        "\n",
        "Strawberry_ = \"let me take you down cause Im going to Strawberry Fields nothing is real and nothing to get hung about Strawberry Fields forever living is easy with eyes closed misunderstanding all you see its getting hard to be someone but it all works out it doesnt matter much to me let me take you down cause Im going to Strawberry Fields nothing is real and nothing to get hung about Strawberry Fields forever no one I think is in my tree I mean it must be high or low that is you cant you know tune in but its all right that is I think its not too bad let me take you down cause Im going to Strawberry Fields nothing is real and nothing to get hung about Strawberry Fields forever always no sometimes think but you know I know when it's a dream I think er no I mean er yes but its all wrong that is I think I disagree let me take you down cause Im going to Strawberry Fields nothing is real and nothing to get hung about Strawberry Fields forever Strawberry Fields forever Strawberry Fields forever\"\n"
      ],
      "execution_count": null,
      "outputs": []
    },
    {
      "cell_type": "markdown",
      "metadata": {
        "id": "B75P8W7jqKnl"
      },
      "source": [
        "The way we are going to determine if two songs are similar is by comparing how frequently words appear in each song. We can make a frequency table to determine how many times each word appears in Strawberry Fields."
      ]
    },
    {
      "cell_type": "code",
      "metadata": {
        "id": "eu7cbuJB_mBq"
      },
      "source": [
        "\n"
      ],
      "execution_count": null,
      "outputs": []
    },
    {
      "cell_type": "markdown",
      "metadata": {
        "id": "CdsTtNGcrc2y"
      },
      "source": [
        "Now let's do the same with Penny Lane - a song we know was written by McCartney"
      ]
    },
    {
      "cell_type": "code",
      "metadata": {
        "id": "Fh89MZnHAgcc"
      },
      "source": [
        "import pandas as pd\n",
        "\n",
        "#Penny Lane - Paul McCartney (not disputed)\n",
        "\n",
        "Lane_ = \"in Penny Lane there is a barber showing photographs of every head hes had the pleasure to know and all the people that come and go stop and say hello on the corner is a banker with a motorcar and little children laugh at him behind his back and the banker never wears a mac in the pouring rain very strange Penny Lane is in my ears and in my eyes there beneath the blue suburban skies I sit and meanwhile back in Penny Lane there is a fireman with an hourglass and in his pocket is a portrait of the Queen he likes to keep his fire engine clean its a clean machine Penny Lane is in my ears and in my eyes a four of fish and finger pies in summer meanwhile back behind the shelter in the middle of the roundabout the pretty nurse is selling poppies from a tray and though she feels as if shes in a play ahe is anyway in Penny Lane the barber shaves another customer we see the banker sitting waiting for a trim and then the fireman rushes in from the pouring rain very strange Penny Lane is in my ears and in my eyes there beneath the blue suburban skies I sit and meanwhile back Penny Lane is in my ears and in my eyes there beneath the blue suburban skies Penny Lane\"\n"
      ],
      "execution_count": null,
      "outputs": []
    },
    {
      "cell_type": "markdown",
      "metadata": {
        "id": "c8ieic21sH4j"
      },
      "source": [
        "Now we are going to concatenate the two data sets so that there is one row for each word that appears in either song and one column for each song that counts how many times that word appears in the song's lyrics."
      ]
    },
    {
      "cell_type": "code",
      "metadata": {
        "id": "5GYIQ3jf88MI"
      },
      "source": [
        "# Compare Strawberry Fields to Penny Lane\n",
        "\n",
        "from numpy import dot\n",
        "from numpy.linalg import norm\n"
      ],
      "execution_count": null,
      "outputs": []
    },
    {
      "cell_type": "markdown",
      "metadata": {
        "id": "hJ-wIIvzuBaV"
      },
      "source": [
        "We want to rename the first column so we know it is the word count from Strawberry Fields and the second column so we know it is the word count from Penny Lane.  \n",
        "\n",
        "Also, we want to change the NaNs present to 0s because they indicate that a word that was in one song was not included in the other song."
      ]
    },
    {
      "cell_type": "code",
      "metadata": {
        "id": "ptEDEGNzt5Zz"
      },
      "source": [],
      "execution_count": null,
      "outputs": []
    },
    {
      "cell_type": "markdown",
      "metadata": {
        "id": "A1foHf3mumhO"
      },
      "source": [
        "Now we can have two numeric vectors that represent the lyric frequency of each song, and we an compare them using the cosine similarity.  "
      ]
    },
    {
      "cell_type": "code",
      "metadata": {
        "id": "PUDYI4zxuZGc"
      },
      "source": [
        "#cos_sim = dot product Strawberry Fields and Penny Lane / norm(Strawberry Fields) * norm (Penny Lane)\n"
      ],
      "execution_count": null,
      "outputs": []
    },
    {
      "cell_type": "markdown",
      "metadata": {
        "id": "u-UbDnpWvd_B"
      },
      "source": [
        "We can use this value (cosine similarity = 0.22) as a baseline.  This is the similarity between two songs that were written by close collaborators but we know were not written by the same individual."
      ]
    },
    {
      "cell_type": "markdown",
      "metadata": {
        "id": "hj3Ee1dKwY75"
      },
      "source": [
        "Let's load in two more songs: From Me to You (collaboration, not disputed) and In My Life (the disputed song)"
      ]
    },
    {
      "cell_type": "code",
      "metadata": {
        "id": "jKcCwgydn0Rr"
      },
      "source": [
        "#From Me to You - Lennon and McCartney (not disputed)\n",
        "\n",
        "Me_ = \"if there's anything that you want if there's anything I can do just call on me and Ill send it along with love from me to you Ive got everything that you want like a heart thats oh so true just call on me and Ill send it along with love from me to you Ive got arms that long to hold you and keep you by my side Ive got lips that long to kiss you and keep you satisfied oh if theres anything that you want if theres anything I can do just call on me and Ill send it along with love from me to you from me to you just call on me and Ill send it along with love from me to you Ive got arms that long to hold you and keep you by my side Ive got lips that long to kiss you and keep you satisfied oh if theres anything that you want if theres anything I can do just call on me and Ill send it along with love from me to you to you to you to you\"\n"
      ],
      "execution_count": null,
      "outputs": []
    },
    {
      "cell_type": "code",
      "metadata": {
        "id": "kRXbhykPD2at"
      },
      "source": [
        "\n",
        "#In My Life - Lennon or McCartney (disputed)\n",
        "\n",
        "Life_ = \"there are places Ill remember all my life though some have changed some forever, not for better some have gone and some remain all these places had their moments with lovers and friends I still can recall some are dead and some are living in my life Ive loved them all but of all these friends and lovers there is no one compares with you and these memories lose their meaning when I think of love as something new though I know Ill never lose affection for people and things that went before I know Ill often stop and think about them in my life Ill love you more though I know Ill never lose affection for people and things that went before I know Ill often stop and think about them in my life Ill love you more in my life Ill love you more\"\n"
      ],
      "execution_count": null,
      "outputs": []
    },
    {
      "cell_type": "markdown",
      "metadata": {
        "id": "afk-BeJxxMew"
      },
      "source": [
        "Let's compare In My Life to Penny Lane (McCartney), Strawberry Fields (Lennon) and From Me to You (the undisputed collaboration)"
      ]
    },
    {
      "cell_type": "code",
      "metadata": {
        "id": "SrR03CRqnBPr",
        "colab": {
          "base_uri": "https://localhost:8080/",
          "height": 195
        },
        "outputId": "ceeaacb0-605d-45c7-eff2-1ede334bd0a7"
      },
      "source": [
        "# Compare Penny Lane to In My Life\n",
        "\n",
        "from numpy import dot\n",
        "from numpy.linalg import norm\n",
        "\n",
        "dfs = [Lane_df_freq, Life_df_freq]\n"
      ],
      "execution_count": null,
      "outputs": [
        {
          "output_type": "error",
          "ename": "NameError",
          "evalue": "ignored",
          "traceback": [
            "\u001b[0;31m---------------------------------------------------------------------------\u001b[0m",
            "\u001b[0;31mNameError\u001b[0m                                 Traceback (most recent call last)",
            "\u001b[0;32m<ipython-input-20-73c0e597114d>\u001b[0m in \u001b[0;36m<module>\u001b[0;34m()\u001b[0m\n\u001b[1;32m      4\u001b[0m \u001b[0;32mfrom\u001b[0m \u001b[0mnumpy\u001b[0m\u001b[0;34m.\u001b[0m\u001b[0mlinalg\u001b[0m \u001b[0;32mimport\u001b[0m \u001b[0mnorm\u001b[0m\u001b[0;34m\u001b[0m\u001b[0;34m\u001b[0m\u001b[0m\n\u001b[1;32m      5\u001b[0m \u001b[0;34m\u001b[0m\u001b[0m\n\u001b[0;32m----> 6\u001b[0;31m \u001b[0mdfs\u001b[0m \u001b[0;34m=\u001b[0m \u001b[0;34m[\u001b[0m\u001b[0mLane_df_freq\u001b[0m\u001b[0;34m,\u001b[0m \u001b[0mLife_df_freq\u001b[0m\u001b[0;34m]\u001b[0m\u001b[0;34m\u001b[0m\u001b[0;34m\u001b[0m\u001b[0m\n\u001b[0m",
            "\u001b[0;31mNameError\u001b[0m: name 'Lane_df_freq' is not defined"
          ]
        }
      ]
    },
    {
      "cell_type": "code",
      "metadata": {
        "id": "7JBrYJFX87_N"
      },
      "source": [
        "# Compare Strawberry Fields to In My Life\n",
        "\n",
        "from numpy import dot\n",
        "from numpy.linalg import norm\n",
        "\n",
        "dfs = [Strawberry_df_freq, Life_df_freq]\n",
        "\n",
        "\n"
      ],
      "execution_count": null,
      "outputs": []
    },
    {
      "cell_type": "code",
      "metadata": {
        "id": "SxfS_30H5O0o"
      },
      "source": [
        "# Compare In My Life to From Me to You\n",
        "\n",
        "from numpy import dot\n",
        "from numpy.linalg import norm\n",
        "\n",
        "dfs = [Life_df_freq, Me_df_freq]\n"
      ],
      "execution_count": null,
      "outputs": []
    },
    {
      "cell_type": "markdown",
      "metadata": {
        "id": "ozNE0L2apPFm"
      },
      "source": [
        "The cosine similarity between In My Life to all three other songs is higher than the cosine similarity between Strawberry Fields and Penny Lane.\n",
        "\n",
        "It is highest between In My Life and Penny Lane, followed by From Me to You.  In My Life is least Similar to Strawberry Fields.\n",
        "\n",
        "From the Wikipedia article about the Lennon-McCartney collaboration: In 1977, when shown a list of songs Lennon claimed writing on for the magazine Hit Parader, McCartney disputed only \"In My Life\". Lennon said that McCartney helped only with \"the middle eight\" (a short section) of the song. McCartney said that he wrote the entire melody, taking inspiration from Smokey Robinson songs.\n",
        "\n",
        "Perhaps this analysis gives additional evidence that McCartney really did write all of In My Life."
      ]
    }
  ]
}